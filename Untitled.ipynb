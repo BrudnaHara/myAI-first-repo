{
 "cells": [
  {
   "cell_type": "code",
   "execution_count": 1,
   "id": "e3ebc5bc-58fd-4994-adb9-8658a07dd5f9",
   "metadata": {},
   "outputs": [
    {
     "name": "stdout",
     "output_type": "stream",
     "text": [
      "Działa! ✅\n"
     ]
    }
   ],
   "source": [
    "import pandas as pd\n",
    "import numpy as np\n",
    "import matplotlib.pyplot as plt\n",
    "print(\"Działa! ✅\")"
   ]
  },
  {
   "cell_type": "code",
   "execution_count": 2,
   "id": "3cf7f2b5-2afa-4f41-9d38-4e63f8a97b1c",
   "metadata": {},
   "outputs": [
    {
     "name": "stdout",
     "output_type": "stream",
     "text": [
      "Kernel żyje! 🚀\n"
     ]
    }
   ],
   "source": [
    "print(\"Kernel żyje! 🚀\")"
   ]
  },
  {
   "cell_type": "code",
   "execution_count": 3,
   "id": "81bde100-5972-462d-b072-cc0d18051c00",
   "metadata": {},
   "outputs": [],
   "source": [
    "import pandas as pd"
   ]
  },
  {
   "cell_type": "code",
   "execution_count": 4,
   "id": "224a5005-906d-41e4-b699-22a6060c5c01",
   "metadata": {},
   "outputs": [
    {
     "ename": "FileNotFoundError",
     "evalue": "[Errno 2] No such file or directory: '26_titanic.csv'",
     "output_type": "error",
     "traceback": [
      "\u001b[31m---------------------------------------------------------------------------\u001b[39m",
      "\u001b[31mFileNotFoundError\u001b[39m                         Traceback (most recent call last)",
      "\u001b[36mCell\u001b[39m\u001b[36m \u001b[39m\u001b[32mIn[4]\u001b[39m\u001b[32m, line 1\u001b[39m\n\u001b[32m----> \u001b[39m\u001b[32m1\u001b[39m df = \u001b[43mpd\u001b[49m\u001b[43m.\u001b[49m\u001b[43mread_csv\u001b[49m\u001b[43m(\u001b[49m\u001b[33;43m'\u001b[39;49m\u001b[33;43m26_titanic.csv\u001b[39;49m\u001b[33;43m'\u001b[39;49m\u001b[43m)\u001b[49m\n",
      "\u001b[36mFile \u001b[39m\u001b[32m~/data_science_course/venv/lib/python3.13/site-packages/pandas/io/parsers/readers.py:1026\u001b[39m, in \u001b[36mread_csv\u001b[39m\u001b[34m(filepath_or_buffer, sep, delimiter, header, names, index_col, usecols, dtype, engine, converters, true_values, false_values, skipinitialspace, skiprows, skipfooter, nrows, na_values, keep_default_na, na_filter, verbose, skip_blank_lines, parse_dates, infer_datetime_format, keep_date_col, date_parser, date_format, dayfirst, cache_dates, iterator, chunksize, compression, thousands, decimal, lineterminator, quotechar, quoting, doublequote, escapechar, comment, encoding, encoding_errors, dialect, on_bad_lines, delim_whitespace, low_memory, memory_map, float_precision, storage_options, dtype_backend)\u001b[39m\n\u001b[32m   1013\u001b[39m kwds_defaults = _refine_defaults_read(\n\u001b[32m   1014\u001b[39m     dialect,\n\u001b[32m   1015\u001b[39m     delimiter,\n\u001b[32m   (...)\u001b[39m\u001b[32m   1022\u001b[39m     dtype_backend=dtype_backend,\n\u001b[32m   1023\u001b[39m )\n\u001b[32m   1024\u001b[39m kwds.update(kwds_defaults)\n\u001b[32m-> \u001b[39m\u001b[32m1026\u001b[39m \u001b[38;5;28;01mreturn\u001b[39;00m \u001b[43m_read\u001b[49m\u001b[43m(\u001b[49m\u001b[43mfilepath_or_buffer\u001b[49m\u001b[43m,\u001b[49m\u001b[43m \u001b[49m\u001b[43mkwds\u001b[49m\u001b[43m)\u001b[49m\n",
      "\u001b[36mFile \u001b[39m\u001b[32m~/data_science_course/venv/lib/python3.13/site-packages/pandas/io/parsers/readers.py:620\u001b[39m, in \u001b[36m_read\u001b[39m\u001b[34m(filepath_or_buffer, kwds)\u001b[39m\n\u001b[32m    617\u001b[39m _validate_names(kwds.get(\u001b[33m\"\u001b[39m\u001b[33mnames\u001b[39m\u001b[33m\"\u001b[39m, \u001b[38;5;28;01mNone\u001b[39;00m))\n\u001b[32m    619\u001b[39m \u001b[38;5;66;03m# Create the parser.\u001b[39;00m\n\u001b[32m--> \u001b[39m\u001b[32m620\u001b[39m parser = \u001b[43mTextFileReader\u001b[49m\u001b[43m(\u001b[49m\u001b[43mfilepath_or_buffer\u001b[49m\u001b[43m,\u001b[49m\u001b[43m \u001b[49m\u001b[43m*\u001b[49m\u001b[43m*\u001b[49m\u001b[43mkwds\u001b[49m\u001b[43m)\u001b[49m\n\u001b[32m    622\u001b[39m \u001b[38;5;28;01mif\u001b[39;00m chunksize \u001b[38;5;129;01mor\u001b[39;00m iterator:\n\u001b[32m    623\u001b[39m     \u001b[38;5;28;01mreturn\u001b[39;00m parser\n",
      "\u001b[36mFile \u001b[39m\u001b[32m~/data_science_course/venv/lib/python3.13/site-packages/pandas/io/parsers/readers.py:1620\u001b[39m, in \u001b[36mTextFileReader.__init__\u001b[39m\u001b[34m(self, f, engine, **kwds)\u001b[39m\n\u001b[32m   1617\u001b[39m     \u001b[38;5;28mself\u001b[39m.options[\u001b[33m\"\u001b[39m\u001b[33mhas_index_names\u001b[39m\u001b[33m\"\u001b[39m] = kwds[\u001b[33m\"\u001b[39m\u001b[33mhas_index_names\u001b[39m\u001b[33m\"\u001b[39m]\n\u001b[32m   1619\u001b[39m \u001b[38;5;28mself\u001b[39m.handles: IOHandles | \u001b[38;5;28;01mNone\u001b[39;00m = \u001b[38;5;28;01mNone\u001b[39;00m\n\u001b[32m-> \u001b[39m\u001b[32m1620\u001b[39m \u001b[38;5;28mself\u001b[39m._engine = \u001b[38;5;28;43mself\u001b[39;49m\u001b[43m.\u001b[49m\u001b[43m_make_engine\u001b[49m\u001b[43m(\u001b[49m\u001b[43mf\u001b[49m\u001b[43m,\u001b[49m\u001b[43m \u001b[49m\u001b[38;5;28;43mself\u001b[39;49m\u001b[43m.\u001b[49m\u001b[43mengine\u001b[49m\u001b[43m)\u001b[49m\n",
      "\u001b[36mFile \u001b[39m\u001b[32m~/data_science_course/venv/lib/python3.13/site-packages/pandas/io/parsers/readers.py:1880\u001b[39m, in \u001b[36mTextFileReader._make_engine\u001b[39m\u001b[34m(self, f, engine)\u001b[39m\n\u001b[32m   1878\u001b[39m     \u001b[38;5;28;01mif\u001b[39;00m \u001b[33m\"\u001b[39m\u001b[33mb\u001b[39m\u001b[33m\"\u001b[39m \u001b[38;5;129;01mnot\u001b[39;00m \u001b[38;5;129;01min\u001b[39;00m mode:\n\u001b[32m   1879\u001b[39m         mode += \u001b[33m\"\u001b[39m\u001b[33mb\u001b[39m\u001b[33m\"\u001b[39m\n\u001b[32m-> \u001b[39m\u001b[32m1880\u001b[39m \u001b[38;5;28mself\u001b[39m.handles = \u001b[43mget_handle\u001b[49m\u001b[43m(\u001b[49m\n\u001b[32m   1881\u001b[39m \u001b[43m    \u001b[49m\u001b[43mf\u001b[49m\u001b[43m,\u001b[49m\n\u001b[32m   1882\u001b[39m \u001b[43m    \u001b[49m\u001b[43mmode\u001b[49m\u001b[43m,\u001b[49m\n\u001b[32m   1883\u001b[39m \u001b[43m    \u001b[49m\u001b[43mencoding\u001b[49m\u001b[43m=\u001b[49m\u001b[38;5;28;43mself\u001b[39;49m\u001b[43m.\u001b[49m\u001b[43moptions\u001b[49m\u001b[43m.\u001b[49m\u001b[43mget\u001b[49m\u001b[43m(\u001b[49m\u001b[33;43m\"\u001b[39;49m\u001b[33;43mencoding\u001b[39;49m\u001b[33;43m\"\u001b[39;49m\u001b[43m,\u001b[49m\u001b[43m \u001b[49m\u001b[38;5;28;43;01mNone\u001b[39;49;00m\u001b[43m)\u001b[49m\u001b[43m,\u001b[49m\n\u001b[32m   1884\u001b[39m \u001b[43m    \u001b[49m\u001b[43mcompression\u001b[49m\u001b[43m=\u001b[49m\u001b[38;5;28;43mself\u001b[39;49m\u001b[43m.\u001b[49m\u001b[43moptions\u001b[49m\u001b[43m.\u001b[49m\u001b[43mget\u001b[49m\u001b[43m(\u001b[49m\u001b[33;43m\"\u001b[39;49m\u001b[33;43mcompression\u001b[39;49m\u001b[33;43m\"\u001b[39;49m\u001b[43m,\u001b[49m\u001b[43m \u001b[49m\u001b[38;5;28;43;01mNone\u001b[39;49;00m\u001b[43m)\u001b[49m\u001b[43m,\u001b[49m\n\u001b[32m   1885\u001b[39m \u001b[43m    \u001b[49m\u001b[43mmemory_map\u001b[49m\u001b[43m=\u001b[49m\u001b[38;5;28;43mself\u001b[39;49m\u001b[43m.\u001b[49m\u001b[43moptions\u001b[49m\u001b[43m.\u001b[49m\u001b[43mget\u001b[49m\u001b[43m(\u001b[49m\u001b[33;43m\"\u001b[39;49m\u001b[33;43mmemory_map\u001b[39;49m\u001b[33;43m\"\u001b[39;49m\u001b[43m,\u001b[49m\u001b[43m \u001b[49m\u001b[38;5;28;43;01mFalse\u001b[39;49;00m\u001b[43m)\u001b[49m\u001b[43m,\u001b[49m\n\u001b[32m   1886\u001b[39m \u001b[43m    \u001b[49m\u001b[43mis_text\u001b[49m\u001b[43m=\u001b[49m\u001b[43mis_text\u001b[49m\u001b[43m,\u001b[49m\n\u001b[32m   1887\u001b[39m \u001b[43m    \u001b[49m\u001b[43merrors\u001b[49m\u001b[43m=\u001b[49m\u001b[38;5;28;43mself\u001b[39;49m\u001b[43m.\u001b[49m\u001b[43moptions\u001b[49m\u001b[43m.\u001b[49m\u001b[43mget\u001b[49m\u001b[43m(\u001b[49m\u001b[33;43m\"\u001b[39;49m\u001b[33;43mencoding_errors\u001b[39;49m\u001b[33;43m\"\u001b[39;49m\u001b[43m,\u001b[49m\u001b[43m \u001b[49m\u001b[33;43m\"\u001b[39;49m\u001b[33;43mstrict\u001b[39;49m\u001b[33;43m\"\u001b[39;49m\u001b[43m)\u001b[49m\u001b[43m,\u001b[49m\n\u001b[32m   1888\u001b[39m \u001b[43m    \u001b[49m\u001b[43mstorage_options\u001b[49m\u001b[43m=\u001b[49m\u001b[38;5;28;43mself\u001b[39;49m\u001b[43m.\u001b[49m\u001b[43moptions\u001b[49m\u001b[43m.\u001b[49m\u001b[43mget\u001b[49m\u001b[43m(\u001b[49m\u001b[33;43m\"\u001b[39;49m\u001b[33;43mstorage_options\u001b[39;49m\u001b[33;43m\"\u001b[39;49m\u001b[43m,\u001b[49m\u001b[43m \u001b[49m\u001b[38;5;28;43;01mNone\u001b[39;49;00m\u001b[43m)\u001b[49m\u001b[43m,\u001b[49m\n\u001b[32m   1889\u001b[39m \u001b[43m\u001b[49m\u001b[43m)\u001b[49m\n\u001b[32m   1890\u001b[39m \u001b[38;5;28;01massert\u001b[39;00m \u001b[38;5;28mself\u001b[39m.handles \u001b[38;5;129;01mis\u001b[39;00m \u001b[38;5;129;01mnot\u001b[39;00m \u001b[38;5;28;01mNone\u001b[39;00m\n\u001b[32m   1891\u001b[39m f = \u001b[38;5;28mself\u001b[39m.handles.handle\n",
      "\u001b[36mFile \u001b[39m\u001b[32m~/data_science_course/venv/lib/python3.13/site-packages/pandas/io/common.py:873\u001b[39m, in \u001b[36mget_handle\u001b[39m\u001b[34m(path_or_buf, mode, encoding, compression, memory_map, is_text, errors, storage_options)\u001b[39m\n\u001b[32m    868\u001b[39m \u001b[38;5;28;01melif\u001b[39;00m \u001b[38;5;28misinstance\u001b[39m(handle, \u001b[38;5;28mstr\u001b[39m):\n\u001b[32m    869\u001b[39m     \u001b[38;5;66;03m# Check whether the filename is to be opened in binary mode.\u001b[39;00m\n\u001b[32m    870\u001b[39m     \u001b[38;5;66;03m# Binary mode does not support 'encoding' and 'newline'.\u001b[39;00m\n\u001b[32m    871\u001b[39m     \u001b[38;5;28;01mif\u001b[39;00m ioargs.encoding \u001b[38;5;129;01mand\u001b[39;00m \u001b[33m\"\u001b[39m\u001b[33mb\u001b[39m\u001b[33m\"\u001b[39m \u001b[38;5;129;01mnot\u001b[39;00m \u001b[38;5;129;01min\u001b[39;00m ioargs.mode:\n\u001b[32m    872\u001b[39m         \u001b[38;5;66;03m# Encoding\u001b[39;00m\n\u001b[32m--> \u001b[39m\u001b[32m873\u001b[39m         handle = \u001b[38;5;28;43mopen\u001b[39;49m\u001b[43m(\u001b[49m\n\u001b[32m    874\u001b[39m \u001b[43m            \u001b[49m\u001b[43mhandle\u001b[49m\u001b[43m,\u001b[49m\n\u001b[32m    875\u001b[39m \u001b[43m            \u001b[49m\u001b[43mioargs\u001b[49m\u001b[43m.\u001b[49m\u001b[43mmode\u001b[49m\u001b[43m,\u001b[49m\n\u001b[32m    876\u001b[39m \u001b[43m            \u001b[49m\u001b[43mencoding\u001b[49m\u001b[43m=\u001b[49m\u001b[43mioargs\u001b[49m\u001b[43m.\u001b[49m\u001b[43mencoding\u001b[49m\u001b[43m,\u001b[49m\n\u001b[32m    877\u001b[39m \u001b[43m            \u001b[49m\u001b[43merrors\u001b[49m\u001b[43m=\u001b[49m\u001b[43merrors\u001b[49m\u001b[43m,\u001b[49m\n\u001b[32m    878\u001b[39m \u001b[43m            \u001b[49m\u001b[43mnewline\u001b[49m\u001b[43m=\u001b[49m\u001b[33;43m\"\u001b[39;49m\u001b[33;43m\"\u001b[39;49m\u001b[43m,\u001b[49m\n\u001b[32m    879\u001b[39m \u001b[43m        \u001b[49m\u001b[43m)\u001b[49m\n\u001b[32m    880\u001b[39m     \u001b[38;5;28;01melse\u001b[39;00m:\n\u001b[32m    881\u001b[39m         \u001b[38;5;66;03m# Binary mode\u001b[39;00m\n\u001b[32m    882\u001b[39m         handle = \u001b[38;5;28mopen\u001b[39m(handle, ioargs.mode)\n",
      "\u001b[31mFileNotFoundError\u001b[39m: [Errno 2] No such file or directory: '26_titanic.csv'"
     ]
    }
   ],
   "source": [
    "df = pd.read_csv('26_titanic.csv')"
   ]
  },
  {
   "cell_type": "code",
   "execution_count": 5,
   "id": "d85e67ba-683d-4b1f-8e9f-e8622b182609",
   "metadata": {},
   "outputs": [
    {
     "ename": "FileNotFoundError",
     "evalue": "[Errno 2] No such file or directory: '26__titanic.csv'",
     "output_type": "error",
     "traceback": [
      "\u001b[31m---------------------------------------------------------------------------\u001b[39m",
      "\u001b[31mFileNotFoundError\u001b[39m                         Traceback (most recent call last)",
      "\u001b[36mCell\u001b[39m\u001b[36m \u001b[39m\u001b[32mIn[5]\u001b[39m\u001b[32m, line 1\u001b[39m\n\u001b[32m----> \u001b[39m\u001b[32m1\u001b[39m df = \u001b[43mpd\u001b[49m\u001b[43m.\u001b[49m\u001b[43mread_csv\u001b[49m\u001b[43m(\u001b[49m\u001b[33;43m'\u001b[39;49m\u001b[33;43m26__titanic.csv\u001b[39;49m\u001b[33;43m'\u001b[39;49m\u001b[43m)\u001b[49m\n",
      "\u001b[36mFile \u001b[39m\u001b[32m~/data_science_course/venv/lib/python3.13/site-packages/pandas/io/parsers/readers.py:1026\u001b[39m, in \u001b[36mread_csv\u001b[39m\u001b[34m(filepath_or_buffer, sep, delimiter, header, names, index_col, usecols, dtype, engine, converters, true_values, false_values, skipinitialspace, skiprows, skipfooter, nrows, na_values, keep_default_na, na_filter, verbose, skip_blank_lines, parse_dates, infer_datetime_format, keep_date_col, date_parser, date_format, dayfirst, cache_dates, iterator, chunksize, compression, thousands, decimal, lineterminator, quotechar, quoting, doublequote, escapechar, comment, encoding, encoding_errors, dialect, on_bad_lines, delim_whitespace, low_memory, memory_map, float_precision, storage_options, dtype_backend)\u001b[39m\n\u001b[32m   1013\u001b[39m kwds_defaults = _refine_defaults_read(\n\u001b[32m   1014\u001b[39m     dialect,\n\u001b[32m   1015\u001b[39m     delimiter,\n\u001b[32m   (...)\u001b[39m\u001b[32m   1022\u001b[39m     dtype_backend=dtype_backend,\n\u001b[32m   1023\u001b[39m )\n\u001b[32m   1024\u001b[39m kwds.update(kwds_defaults)\n\u001b[32m-> \u001b[39m\u001b[32m1026\u001b[39m \u001b[38;5;28;01mreturn\u001b[39;00m \u001b[43m_read\u001b[49m\u001b[43m(\u001b[49m\u001b[43mfilepath_or_buffer\u001b[49m\u001b[43m,\u001b[49m\u001b[43m \u001b[49m\u001b[43mkwds\u001b[49m\u001b[43m)\u001b[49m\n",
      "\u001b[36mFile \u001b[39m\u001b[32m~/data_science_course/venv/lib/python3.13/site-packages/pandas/io/parsers/readers.py:620\u001b[39m, in \u001b[36m_read\u001b[39m\u001b[34m(filepath_or_buffer, kwds)\u001b[39m\n\u001b[32m    617\u001b[39m _validate_names(kwds.get(\u001b[33m\"\u001b[39m\u001b[33mnames\u001b[39m\u001b[33m\"\u001b[39m, \u001b[38;5;28;01mNone\u001b[39;00m))\n\u001b[32m    619\u001b[39m \u001b[38;5;66;03m# Create the parser.\u001b[39;00m\n\u001b[32m--> \u001b[39m\u001b[32m620\u001b[39m parser = \u001b[43mTextFileReader\u001b[49m\u001b[43m(\u001b[49m\u001b[43mfilepath_or_buffer\u001b[49m\u001b[43m,\u001b[49m\u001b[43m \u001b[49m\u001b[43m*\u001b[49m\u001b[43m*\u001b[49m\u001b[43mkwds\u001b[49m\u001b[43m)\u001b[49m\n\u001b[32m    622\u001b[39m \u001b[38;5;28;01mif\u001b[39;00m chunksize \u001b[38;5;129;01mor\u001b[39;00m iterator:\n\u001b[32m    623\u001b[39m     \u001b[38;5;28;01mreturn\u001b[39;00m parser\n",
      "\u001b[36mFile \u001b[39m\u001b[32m~/data_science_course/venv/lib/python3.13/site-packages/pandas/io/parsers/readers.py:1620\u001b[39m, in \u001b[36mTextFileReader.__init__\u001b[39m\u001b[34m(self, f, engine, **kwds)\u001b[39m\n\u001b[32m   1617\u001b[39m     \u001b[38;5;28mself\u001b[39m.options[\u001b[33m\"\u001b[39m\u001b[33mhas_index_names\u001b[39m\u001b[33m\"\u001b[39m] = kwds[\u001b[33m\"\u001b[39m\u001b[33mhas_index_names\u001b[39m\u001b[33m\"\u001b[39m]\n\u001b[32m   1619\u001b[39m \u001b[38;5;28mself\u001b[39m.handles: IOHandles | \u001b[38;5;28;01mNone\u001b[39;00m = \u001b[38;5;28;01mNone\u001b[39;00m\n\u001b[32m-> \u001b[39m\u001b[32m1620\u001b[39m \u001b[38;5;28mself\u001b[39m._engine = \u001b[38;5;28;43mself\u001b[39;49m\u001b[43m.\u001b[49m\u001b[43m_make_engine\u001b[49m\u001b[43m(\u001b[49m\u001b[43mf\u001b[49m\u001b[43m,\u001b[49m\u001b[43m \u001b[49m\u001b[38;5;28;43mself\u001b[39;49m\u001b[43m.\u001b[49m\u001b[43mengine\u001b[49m\u001b[43m)\u001b[49m\n",
      "\u001b[36mFile \u001b[39m\u001b[32m~/data_science_course/venv/lib/python3.13/site-packages/pandas/io/parsers/readers.py:1880\u001b[39m, in \u001b[36mTextFileReader._make_engine\u001b[39m\u001b[34m(self, f, engine)\u001b[39m\n\u001b[32m   1878\u001b[39m     \u001b[38;5;28;01mif\u001b[39;00m \u001b[33m\"\u001b[39m\u001b[33mb\u001b[39m\u001b[33m\"\u001b[39m \u001b[38;5;129;01mnot\u001b[39;00m \u001b[38;5;129;01min\u001b[39;00m mode:\n\u001b[32m   1879\u001b[39m         mode += \u001b[33m\"\u001b[39m\u001b[33mb\u001b[39m\u001b[33m\"\u001b[39m\n\u001b[32m-> \u001b[39m\u001b[32m1880\u001b[39m \u001b[38;5;28mself\u001b[39m.handles = \u001b[43mget_handle\u001b[49m\u001b[43m(\u001b[49m\n\u001b[32m   1881\u001b[39m \u001b[43m    \u001b[49m\u001b[43mf\u001b[49m\u001b[43m,\u001b[49m\n\u001b[32m   1882\u001b[39m \u001b[43m    \u001b[49m\u001b[43mmode\u001b[49m\u001b[43m,\u001b[49m\n\u001b[32m   1883\u001b[39m \u001b[43m    \u001b[49m\u001b[43mencoding\u001b[49m\u001b[43m=\u001b[49m\u001b[38;5;28;43mself\u001b[39;49m\u001b[43m.\u001b[49m\u001b[43moptions\u001b[49m\u001b[43m.\u001b[49m\u001b[43mget\u001b[49m\u001b[43m(\u001b[49m\u001b[33;43m\"\u001b[39;49m\u001b[33;43mencoding\u001b[39;49m\u001b[33;43m\"\u001b[39;49m\u001b[43m,\u001b[49m\u001b[43m \u001b[49m\u001b[38;5;28;43;01mNone\u001b[39;49;00m\u001b[43m)\u001b[49m\u001b[43m,\u001b[49m\n\u001b[32m   1884\u001b[39m \u001b[43m    \u001b[49m\u001b[43mcompression\u001b[49m\u001b[43m=\u001b[49m\u001b[38;5;28;43mself\u001b[39;49m\u001b[43m.\u001b[49m\u001b[43moptions\u001b[49m\u001b[43m.\u001b[49m\u001b[43mget\u001b[49m\u001b[43m(\u001b[49m\u001b[33;43m\"\u001b[39;49m\u001b[33;43mcompression\u001b[39;49m\u001b[33;43m\"\u001b[39;49m\u001b[43m,\u001b[49m\u001b[43m \u001b[49m\u001b[38;5;28;43;01mNone\u001b[39;49;00m\u001b[43m)\u001b[49m\u001b[43m,\u001b[49m\n\u001b[32m   1885\u001b[39m \u001b[43m    \u001b[49m\u001b[43mmemory_map\u001b[49m\u001b[43m=\u001b[49m\u001b[38;5;28;43mself\u001b[39;49m\u001b[43m.\u001b[49m\u001b[43moptions\u001b[49m\u001b[43m.\u001b[49m\u001b[43mget\u001b[49m\u001b[43m(\u001b[49m\u001b[33;43m\"\u001b[39;49m\u001b[33;43mmemory_map\u001b[39;49m\u001b[33;43m\"\u001b[39;49m\u001b[43m,\u001b[49m\u001b[43m \u001b[49m\u001b[38;5;28;43;01mFalse\u001b[39;49;00m\u001b[43m)\u001b[49m\u001b[43m,\u001b[49m\n\u001b[32m   1886\u001b[39m \u001b[43m    \u001b[49m\u001b[43mis_text\u001b[49m\u001b[43m=\u001b[49m\u001b[43mis_text\u001b[49m\u001b[43m,\u001b[49m\n\u001b[32m   1887\u001b[39m \u001b[43m    \u001b[49m\u001b[43merrors\u001b[49m\u001b[43m=\u001b[49m\u001b[38;5;28;43mself\u001b[39;49m\u001b[43m.\u001b[49m\u001b[43moptions\u001b[49m\u001b[43m.\u001b[49m\u001b[43mget\u001b[49m\u001b[43m(\u001b[49m\u001b[33;43m\"\u001b[39;49m\u001b[33;43mencoding_errors\u001b[39;49m\u001b[33;43m\"\u001b[39;49m\u001b[43m,\u001b[49m\u001b[43m \u001b[49m\u001b[33;43m\"\u001b[39;49m\u001b[33;43mstrict\u001b[39;49m\u001b[33;43m\"\u001b[39;49m\u001b[43m)\u001b[49m\u001b[43m,\u001b[49m\n\u001b[32m   1888\u001b[39m \u001b[43m    \u001b[49m\u001b[43mstorage_options\u001b[49m\u001b[43m=\u001b[49m\u001b[38;5;28;43mself\u001b[39;49m\u001b[43m.\u001b[49m\u001b[43moptions\u001b[49m\u001b[43m.\u001b[49m\u001b[43mget\u001b[49m\u001b[43m(\u001b[49m\u001b[33;43m\"\u001b[39;49m\u001b[33;43mstorage_options\u001b[39;49m\u001b[33;43m\"\u001b[39;49m\u001b[43m,\u001b[49m\u001b[43m \u001b[49m\u001b[38;5;28;43;01mNone\u001b[39;49;00m\u001b[43m)\u001b[49m\u001b[43m,\u001b[49m\n\u001b[32m   1889\u001b[39m \u001b[43m\u001b[49m\u001b[43m)\u001b[49m\n\u001b[32m   1890\u001b[39m \u001b[38;5;28;01massert\u001b[39;00m \u001b[38;5;28mself\u001b[39m.handles \u001b[38;5;129;01mis\u001b[39;00m \u001b[38;5;129;01mnot\u001b[39;00m \u001b[38;5;28;01mNone\u001b[39;00m\n\u001b[32m   1891\u001b[39m f = \u001b[38;5;28mself\u001b[39m.handles.handle\n",
      "\u001b[36mFile \u001b[39m\u001b[32m~/data_science_course/venv/lib/python3.13/site-packages/pandas/io/common.py:873\u001b[39m, in \u001b[36mget_handle\u001b[39m\u001b[34m(path_or_buf, mode, encoding, compression, memory_map, is_text, errors, storage_options)\u001b[39m\n\u001b[32m    868\u001b[39m \u001b[38;5;28;01melif\u001b[39;00m \u001b[38;5;28misinstance\u001b[39m(handle, \u001b[38;5;28mstr\u001b[39m):\n\u001b[32m    869\u001b[39m     \u001b[38;5;66;03m# Check whether the filename is to be opened in binary mode.\u001b[39;00m\n\u001b[32m    870\u001b[39m     \u001b[38;5;66;03m# Binary mode does not support 'encoding' and 'newline'.\u001b[39;00m\n\u001b[32m    871\u001b[39m     \u001b[38;5;28;01mif\u001b[39;00m ioargs.encoding \u001b[38;5;129;01mand\u001b[39;00m \u001b[33m\"\u001b[39m\u001b[33mb\u001b[39m\u001b[33m\"\u001b[39m \u001b[38;5;129;01mnot\u001b[39;00m \u001b[38;5;129;01min\u001b[39;00m ioargs.mode:\n\u001b[32m    872\u001b[39m         \u001b[38;5;66;03m# Encoding\u001b[39;00m\n\u001b[32m--> \u001b[39m\u001b[32m873\u001b[39m         handle = \u001b[38;5;28;43mopen\u001b[39;49m\u001b[43m(\u001b[49m\n\u001b[32m    874\u001b[39m \u001b[43m            \u001b[49m\u001b[43mhandle\u001b[49m\u001b[43m,\u001b[49m\n\u001b[32m    875\u001b[39m \u001b[43m            \u001b[49m\u001b[43mioargs\u001b[49m\u001b[43m.\u001b[49m\u001b[43mmode\u001b[49m\u001b[43m,\u001b[49m\n\u001b[32m    876\u001b[39m \u001b[43m            \u001b[49m\u001b[43mencoding\u001b[49m\u001b[43m=\u001b[49m\u001b[43mioargs\u001b[49m\u001b[43m.\u001b[49m\u001b[43mencoding\u001b[49m\u001b[43m,\u001b[49m\n\u001b[32m    877\u001b[39m \u001b[43m            \u001b[49m\u001b[43merrors\u001b[49m\u001b[43m=\u001b[49m\u001b[43merrors\u001b[49m\u001b[43m,\u001b[49m\n\u001b[32m    878\u001b[39m \u001b[43m            \u001b[49m\u001b[43mnewline\u001b[49m\u001b[43m=\u001b[49m\u001b[33;43m\"\u001b[39;49m\u001b[33;43m\"\u001b[39;49m\u001b[43m,\u001b[49m\n\u001b[32m    879\u001b[39m \u001b[43m        \u001b[49m\u001b[43m)\u001b[49m\n\u001b[32m    880\u001b[39m     \u001b[38;5;28;01melse\u001b[39;00m:\n\u001b[32m    881\u001b[39m         \u001b[38;5;66;03m# Binary mode\u001b[39;00m\n\u001b[32m    882\u001b[39m         handle = \u001b[38;5;28mopen\u001b[39m(handle, ioargs.mode)\n",
      "\u001b[31mFileNotFoundError\u001b[39m: [Errno 2] No such file or directory: '26__titanic.csv'"
     ]
    }
   ],
   "source": [
    "df = pd.read_csv('26__titanic.csv')"
   ]
  },
  {
   "cell_type": "code",
   "execution_count": 6,
   "id": "e377d81f-9e9e-4f97-a4d4-51b9e1fbbfdf",
   "metadata": {},
   "outputs": [],
   "source": [
    "df = pd.read_csv('26__titanic.csv')"
   ]
  },
  {
   "cell_type": "code",
   "execution_count": 7,
   "id": "0ed245ca-374a-4fee-aac5-d6995f1d659a",
   "metadata": {},
   "outputs": [
    {
     "name": "stdout",
     "output_type": "stream",
     "text": [
      "Liczba wierszy i kolumn: (1310, 14)\n"
     ]
    },
    {
     "data": {
      "text/html": [
       "<div>\n",
       "<style scoped>\n",
       "    .dataframe tbody tr th:only-of-type {\n",
       "        vertical-align: middle;\n",
       "    }\n",
       "\n",
       "    .dataframe tbody tr th {\n",
       "        vertical-align: top;\n",
       "    }\n",
       "\n",
       "    .dataframe thead th {\n",
       "        text-align: right;\n",
       "    }\n",
       "</style>\n",
       "<table border=\"1\" class=\"dataframe\">\n",
       "  <thead>\n",
       "    <tr style=\"text-align: right;\">\n",
       "      <th></th>\n",
       "      <th>pclass</th>\n",
       "      <th>survived</th>\n",
       "      <th>name</th>\n",
       "      <th>sex</th>\n",
       "      <th>age</th>\n",
       "      <th>sibsp</th>\n",
       "      <th>parch</th>\n",
       "      <th>ticket</th>\n",
       "      <th>fare</th>\n",
       "      <th>cabin</th>\n",
       "      <th>embarked</th>\n",
       "      <th>boat</th>\n",
       "      <th>body</th>\n",
       "      <th>home.dest</th>\n",
       "    </tr>\n",
       "  </thead>\n",
       "  <tbody>\n",
       "    <tr>\n",
       "      <th>0</th>\n",
       "      <td>1.0</td>\n",
       "      <td>1.0</td>\n",
       "      <td>Allen, Miss. Elisabeth Walton</td>\n",
       "      <td>female</td>\n",
       "      <td>29.0000</td>\n",
       "      <td>0.0</td>\n",
       "      <td>0.0</td>\n",
       "      <td>24160</td>\n",
       "      <td>211.3375</td>\n",
       "      <td>B5</td>\n",
       "      <td>S</td>\n",
       "      <td>2</td>\n",
       "      <td>NaN</td>\n",
       "      <td>St Louis, MO</td>\n",
       "    </tr>\n",
       "    <tr>\n",
       "      <th>1</th>\n",
       "      <td>1.0</td>\n",
       "      <td>1.0</td>\n",
       "      <td>Allison, Master. Hudson Trevor</td>\n",
       "      <td>male</td>\n",
       "      <td>0.9167</td>\n",
       "      <td>1.0</td>\n",
       "      <td>2.0</td>\n",
       "      <td>113781</td>\n",
       "      <td>151.5500</td>\n",
       "      <td>C22 C26</td>\n",
       "      <td>S</td>\n",
       "      <td>11</td>\n",
       "      <td>NaN</td>\n",
       "      <td>Montreal, PQ / Chesterville, ON</td>\n",
       "    </tr>\n",
       "    <tr>\n",
       "      <th>2</th>\n",
       "      <td>1.0</td>\n",
       "      <td>0.0</td>\n",
       "      <td>Allison, Miss. Helen Loraine</td>\n",
       "      <td>female</td>\n",
       "      <td>2.0000</td>\n",
       "      <td>1.0</td>\n",
       "      <td>2.0</td>\n",
       "      <td>113781</td>\n",
       "      <td>151.5500</td>\n",
       "      <td>C22 C26</td>\n",
       "      <td>S</td>\n",
       "      <td>NaN</td>\n",
       "      <td>NaN</td>\n",
       "      <td>Montreal, PQ / Chesterville, ON</td>\n",
       "    </tr>\n",
       "    <tr>\n",
       "      <th>3</th>\n",
       "      <td>1.0</td>\n",
       "      <td>0.0</td>\n",
       "      <td>Allison, Mr. Hudson Joshua Creighton</td>\n",
       "      <td>male</td>\n",
       "      <td>30.0000</td>\n",
       "      <td>1.0</td>\n",
       "      <td>2.0</td>\n",
       "      <td>113781</td>\n",
       "      <td>151.5500</td>\n",
       "      <td>C22 C26</td>\n",
       "      <td>S</td>\n",
       "      <td>NaN</td>\n",
       "      <td>135.0</td>\n",
       "      <td>Montreal, PQ / Chesterville, ON</td>\n",
       "    </tr>\n",
       "    <tr>\n",
       "      <th>4</th>\n",
       "      <td>1.0</td>\n",
       "      <td>0.0</td>\n",
       "      <td>Allison, Mrs. Hudson J C (Bessie Waldo Daniels)</td>\n",
       "      <td>female</td>\n",
       "      <td>25.0000</td>\n",
       "      <td>1.0</td>\n",
       "      <td>2.0</td>\n",
       "      <td>113781</td>\n",
       "      <td>151.5500</td>\n",
       "      <td>C22 C26</td>\n",
       "      <td>S</td>\n",
       "      <td>NaN</td>\n",
       "      <td>NaN</td>\n",
       "      <td>Montreal, PQ / Chesterville, ON</td>\n",
       "    </tr>\n",
       "  </tbody>\n",
       "</table>\n",
       "</div>"
      ],
      "text/plain": [
       "   pclass  survived                                             name     sex  \\\n",
       "0     1.0       1.0                    Allen, Miss. Elisabeth Walton  female   \n",
       "1     1.0       1.0                   Allison, Master. Hudson Trevor    male   \n",
       "2     1.0       0.0                     Allison, Miss. Helen Loraine  female   \n",
       "3     1.0       0.0             Allison, Mr. Hudson Joshua Creighton    male   \n",
       "4     1.0       0.0  Allison, Mrs. Hudson J C (Bessie Waldo Daniels)  female   \n",
       "\n",
       "       age  sibsp  parch  ticket      fare    cabin embarked boat   body  \\\n",
       "0  29.0000    0.0    0.0   24160  211.3375       B5        S    2    NaN   \n",
       "1   0.9167    1.0    2.0  113781  151.5500  C22 C26        S   11    NaN   \n",
       "2   2.0000    1.0    2.0  113781  151.5500  C22 C26        S  NaN    NaN   \n",
       "3  30.0000    1.0    2.0  113781  151.5500  C22 C26        S  NaN  135.0   \n",
       "4  25.0000    1.0    2.0  113781  151.5500  C22 C26        S  NaN    NaN   \n",
       "\n",
       "                         home.dest  \n",
       "0                     St Louis, MO  \n",
       "1  Montreal, PQ / Chesterville, ON  \n",
       "2  Montreal, PQ / Chesterville, ON  \n",
       "3  Montreal, PQ / Chesterville, ON  \n",
       "4  Montreal, PQ / Chesterville, ON  "
      ]
     },
     "execution_count": 7,
     "metadata": {},
     "output_type": "execute_result"
    }
   ],
   "source": [
    "print(\"Liczba wierszy i kolumn:\", df.shape)\n",
    "df.head()"
   ]
  },
  {
   "cell_type": "code",
   "execution_count": 8,
   "id": "4bf2abef-265d-456a-82ac-4a35994d72bd",
   "metadata": {},
   "outputs": [
    {
     "data": {
      "text/html": [
       "<div>\n",
       "<style scoped>\n",
       "    .dataframe tbody tr th:only-of-type {\n",
       "        vertical-align: middle;\n",
       "    }\n",
       "\n",
       "    .dataframe tbody tr th {\n",
       "        vertical-align: top;\n",
       "    }\n",
       "\n",
       "    .dataframe thead th {\n",
       "        text-align: right;\n",
       "    }\n",
       "</style>\n",
       "<table border=\"1\" class=\"dataframe\">\n",
       "  <thead>\n",
       "    <tr style=\"text-align: right;\">\n",
       "      <th></th>\n",
       "      <th>pclass</th>\n",
       "      <th>survived</th>\n",
       "      <th>name</th>\n",
       "      <th>sex</th>\n",
       "      <th>age</th>\n",
       "      <th>sibsp</th>\n",
       "      <th>parch</th>\n",
       "      <th>ticket</th>\n",
       "      <th>fare</th>\n",
       "      <th>cabin</th>\n",
       "      <th>embarked</th>\n",
       "      <th>boat</th>\n",
       "      <th>body</th>\n",
       "      <th>home.dest</th>\n",
       "    </tr>\n",
       "  </thead>\n",
       "  <tbody>\n",
       "    <tr>\n",
       "      <th>0</th>\n",
       "      <td>1.0</td>\n",
       "      <td>1.0</td>\n",
       "      <td>Allen, Miss. Elisabeth Walton</td>\n",
       "      <td>female</td>\n",
       "      <td>29.0000</td>\n",
       "      <td>0.0</td>\n",
       "      <td>0.0</td>\n",
       "      <td>24160</td>\n",
       "      <td>211.3375</td>\n",
       "      <td>B5</td>\n",
       "      <td>S</td>\n",
       "      <td>2</td>\n",
       "      <td>NaN</td>\n",
       "      <td>St Louis, MO</td>\n",
       "    </tr>\n",
       "    <tr>\n",
       "      <th>1</th>\n",
       "      <td>1.0</td>\n",
       "      <td>1.0</td>\n",
       "      <td>Allison, Master. Hudson Trevor</td>\n",
       "      <td>male</td>\n",
       "      <td>0.9167</td>\n",
       "      <td>1.0</td>\n",
       "      <td>2.0</td>\n",
       "      <td>113781</td>\n",
       "      <td>151.5500</td>\n",
       "      <td>C22 C26</td>\n",
       "      <td>S</td>\n",
       "      <td>11</td>\n",
       "      <td>NaN</td>\n",
       "      <td>Montreal, PQ / Chesterville, ON</td>\n",
       "    </tr>\n",
       "    <tr>\n",
       "      <th>2</th>\n",
       "      <td>1.0</td>\n",
       "      <td>0.0</td>\n",
       "      <td>Allison, Miss. Helen Loraine</td>\n",
       "      <td>female</td>\n",
       "      <td>2.0000</td>\n",
       "      <td>1.0</td>\n",
       "      <td>2.0</td>\n",
       "      <td>113781</td>\n",
       "      <td>151.5500</td>\n",
       "      <td>C22 C26</td>\n",
       "      <td>S</td>\n",
       "      <td>NaN</td>\n",
       "      <td>NaN</td>\n",
       "      <td>Montreal, PQ / Chesterville, ON</td>\n",
       "    </tr>\n",
       "    <tr>\n",
       "      <th>3</th>\n",
       "      <td>1.0</td>\n",
       "      <td>0.0</td>\n",
       "      <td>Allison, Mr. Hudson Joshua Creighton</td>\n",
       "      <td>male</td>\n",
       "      <td>30.0000</td>\n",
       "      <td>1.0</td>\n",
       "      <td>2.0</td>\n",
       "      <td>113781</td>\n",
       "      <td>151.5500</td>\n",
       "      <td>C22 C26</td>\n",
       "      <td>S</td>\n",
       "      <td>NaN</td>\n",
       "      <td>135.0</td>\n",
       "      <td>Montreal, PQ / Chesterville, ON</td>\n",
       "    </tr>\n",
       "    <tr>\n",
       "      <th>4</th>\n",
       "      <td>1.0</td>\n",
       "      <td>0.0</td>\n",
       "      <td>Allison, Mrs. Hudson J C (Bessie Waldo Daniels)</td>\n",
       "      <td>female</td>\n",
       "      <td>25.0000</td>\n",
       "      <td>1.0</td>\n",
       "      <td>2.0</td>\n",
       "      <td>113781</td>\n",
       "      <td>151.5500</td>\n",
       "      <td>C22 C26</td>\n",
       "      <td>S</td>\n",
       "      <td>NaN</td>\n",
       "      <td>NaN</td>\n",
       "      <td>Montreal, PQ / Chesterville, ON</td>\n",
       "    </tr>\n",
       "  </tbody>\n",
       "</table>\n",
       "</div>"
      ],
      "text/plain": [
       "   pclass  survived                                             name     sex  \\\n",
       "0     1.0       1.0                    Allen, Miss. Elisabeth Walton  female   \n",
       "1     1.0       1.0                   Allison, Master. Hudson Trevor    male   \n",
       "2     1.0       0.0                     Allison, Miss. Helen Loraine  female   \n",
       "3     1.0       0.0             Allison, Mr. Hudson Joshua Creighton    male   \n",
       "4     1.0       0.0  Allison, Mrs. Hudson J C (Bessie Waldo Daniels)  female   \n",
       "\n",
       "       age  sibsp  parch  ticket      fare    cabin embarked boat   body  \\\n",
       "0  29.0000    0.0    0.0   24160  211.3375       B5        S    2    NaN   \n",
       "1   0.9167    1.0    2.0  113781  151.5500  C22 C26        S   11    NaN   \n",
       "2   2.0000    1.0    2.0  113781  151.5500  C22 C26        S  NaN    NaN   \n",
       "3  30.0000    1.0    2.0  113781  151.5500  C22 C26        S  NaN  135.0   \n",
       "4  25.0000    1.0    2.0  113781  151.5500  C22 C26        S  NaN    NaN   \n",
       "\n",
       "                         home.dest  \n",
       "0                     St Louis, MO  \n",
       "1  Montreal, PQ / Chesterville, ON  \n",
       "2  Montreal, PQ / Chesterville, ON  \n",
       "3  Montreal, PQ / Chesterville, ON  \n",
       "4  Montreal, PQ / Chesterville, ON  "
      ]
     },
     "execution_count": 8,
     "metadata": {},
     "output_type": "execute_result"
    }
   ],
   "source": [
    "# Podgląd pierwszych 5 wierszy\n",
    "df.head()\n"
   ]
  },
  {
   "cell_type": "code",
   "execution_count": 9,
   "id": "89bab5ec-c038-4952-9a01-80187e90fbe3",
   "metadata": {},
   "outputs": [
    {
     "name": "stdout",
     "output_type": "stream",
     "text": [
      "['pclass', 'survived', 'name', 'sex', 'age', 'sibsp', 'parch', 'ticket', 'fare', 'cabin', 'embarked', 'boat', 'body', 'home.dest']\n"
     ]
    }
   ],
   "source": [
    "print(df.columns.tolist())"
   ]
  },
  {
   "cell_type": "code",
   "execution_count": 10,
   "id": "15cc42d5-eadd-4fc8-8496-26e20fd8b9d0",
   "metadata": {},
   "outputs": [
    {
     "ename": "KeyError",
     "evalue": "'Sex'",
     "output_type": "error",
     "traceback": [
      "\u001b[31m---------------------------------------------------------------------------\u001b[39m",
      "\u001b[31mKeyError\u001b[39m                                  Traceback (most recent call last)",
      "\u001b[36mFile \u001b[39m\u001b[32m~/data_science_course/venv/lib/python3.13/site-packages/pandas/core/indexes/base.py:3812\u001b[39m, in \u001b[36mIndex.get_loc\u001b[39m\u001b[34m(self, key)\u001b[39m\n\u001b[32m   3811\u001b[39m \u001b[38;5;28;01mtry\u001b[39;00m:\n\u001b[32m-> \u001b[39m\u001b[32m3812\u001b[39m     \u001b[38;5;28;01mreturn\u001b[39;00m \u001b[38;5;28;43mself\u001b[39;49m\u001b[43m.\u001b[49m\u001b[43m_engine\u001b[49m\u001b[43m.\u001b[49m\u001b[43mget_loc\u001b[49m\u001b[43m(\u001b[49m\u001b[43mcasted_key\u001b[49m\u001b[43m)\u001b[49m\n\u001b[32m   3813\u001b[39m \u001b[38;5;28;01mexcept\u001b[39;00m \u001b[38;5;167;01mKeyError\u001b[39;00m \u001b[38;5;28;01mas\u001b[39;00m err:\n",
      "\u001b[36mFile \u001b[39m\u001b[32mpandas/_libs/index.pyx:167\u001b[39m, in \u001b[36mpandas._libs.index.IndexEngine.get_loc\u001b[39m\u001b[34m()\u001b[39m\n",
      "\u001b[36mFile \u001b[39m\u001b[32mpandas/_libs/index.pyx:196\u001b[39m, in \u001b[36mpandas._libs.index.IndexEngine.get_loc\u001b[39m\u001b[34m()\u001b[39m\n",
      "\u001b[36mFile \u001b[39m\u001b[32mpandas/_libs/hashtable_class_helper.pxi:7088\u001b[39m, in \u001b[36mpandas._libs.hashtable.PyObjectHashTable.get_item\u001b[39m\u001b[34m()\u001b[39m\n",
      "\u001b[36mFile \u001b[39m\u001b[32mpandas/_libs/hashtable_class_helper.pxi:7096\u001b[39m, in \u001b[36mpandas._libs.hashtable.PyObjectHashTable.get_item\u001b[39m\u001b[34m()\u001b[39m\n",
      "\u001b[31mKeyError\u001b[39m: 'Sex'",
      "\nThe above exception was the direct cause of the following exception:\n",
      "\u001b[31mKeyError\u001b[39m                                  Traceback (most recent call last)",
      "\u001b[36mCell\u001b[39m\u001b[36m \u001b[39m\u001b[32mIn[10]\u001b[39m\u001b[32m, line 3\u001b[39m\n\u001b[32m      1\u001b[39m \u001b[38;5;66;03m# Dodajemy kolumnę 'Group' dla klasyfikacji\u001b[39;00m\n\u001b[32m      2\u001b[39m df[\u001b[33m'\u001b[39m\u001b[33mGroup\u001b[39m\u001b[33m'\u001b[39m] = \u001b[33m'\u001b[39m\u001b[33mman\u001b[39m\u001b[33m'\u001b[39m  \u001b[38;5;66;03m# domyślnie mężczyzna\u001b[39;00m\n\u001b[32m----> \u001b[39m\u001b[32m3\u001b[39m df.loc[\u001b[43mdf\u001b[49m\u001b[43m[\u001b[49m\u001b[33;43m'\u001b[39;49m\u001b[33;43mSex\u001b[39;49m\u001b[33;43m'\u001b[39;49m\u001b[43m]\u001b[49m == \u001b[33m'\u001b[39m\u001b[33mfemale\u001b[39m\u001b[33m'\u001b[39m, \u001b[33m'\u001b[39m\u001b[33mGroup\u001b[39m\u001b[33m'\u001b[39m] = \u001b[33m'\u001b[39m\u001b[33mwoman\u001b[39m\u001b[33m'\u001b[39m  \u001b[38;5;66;03m# kobiety\u001b[39;00m\n\u001b[32m      4\u001b[39m df.loc[df[\u001b[33m'\u001b[39m\u001b[33mAge\u001b[39m\u001b[33m'\u001b[39m] < \u001b[32m18\u001b[39m, \u001b[33m'\u001b[39m\u001b[33mGroup\u001b[39m\u001b[33m'\u001b[39m] = \u001b[33m'\u001b[39m\u001b[33mchild\u001b[39m\u001b[33m'\u001b[39m  \u001b[38;5;66;03m# nadpisujemy dzieci (bez względu na płeć)\u001b[39;00m\n",
      "\u001b[36mFile \u001b[39m\u001b[32m~/data_science_course/venv/lib/python3.13/site-packages/pandas/core/frame.py:4107\u001b[39m, in \u001b[36mDataFrame.__getitem__\u001b[39m\u001b[34m(self, key)\u001b[39m\n\u001b[32m   4105\u001b[39m \u001b[38;5;28;01mif\u001b[39;00m \u001b[38;5;28mself\u001b[39m.columns.nlevels > \u001b[32m1\u001b[39m:\n\u001b[32m   4106\u001b[39m     \u001b[38;5;28;01mreturn\u001b[39;00m \u001b[38;5;28mself\u001b[39m._getitem_multilevel(key)\n\u001b[32m-> \u001b[39m\u001b[32m4107\u001b[39m indexer = \u001b[38;5;28;43mself\u001b[39;49m\u001b[43m.\u001b[49m\u001b[43mcolumns\u001b[49m\u001b[43m.\u001b[49m\u001b[43mget_loc\u001b[49m\u001b[43m(\u001b[49m\u001b[43mkey\u001b[49m\u001b[43m)\u001b[49m\n\u001b[32m   4108\u001b[39m \u001b[38;5;28;01mif\u001b[39;00m is_integer(indexer):\n\u001b[32m   4109\u001b[39m     indexer = [indexer]\n",
      "\u001b[36mFile \u001b[39m\u001b[32m~/data_science_course/venv/lib/python3.13/site-packages/pandas/core/indexes/base.py:3819\u001b[39m, in \u001b[36mIndex.get_loc\u001b[39m\u001b[34m(self, key)\u001b[39m\n\u001b[32m   3814\u001b[39m     \u001b[38;5;28;01mif\u001b[39;00m \u001b[38;5;28misinstance\u001b[39m(casted_key, \u001b[38;5;28mslice\u001b[39m) \u001b[38;5;129;01mor\u001b[39;00m (\n\u001b[32m   3815\u001b[39m         \u001b[38;5;28misinstance\u001b[39m(casted_key, abc.Iterable)\n\u001b[32m   3816\u001b[39m         \u001b[38;5;129;01mand\u001b[39;00m \u001b[38;5;28many\u001b[39m(\u001b[38;5;28misinstance\u001b[39m(x, \u001b[38;5;28mslice\u001b[39m) \u001b[38;5;28;01mfor\u001b[39;00m x \u001b[38;5;129;01min\u001b[39;00m casted_key)\n\u001b[32m   3817\u001b[39m     ):\n\u001b[32m   3818\u001b[39m         \u001b[38;5;28;01mraise\u001b[39;00m InvalidIndexError(key)\n\u001b[32m-> \u001b[39m\u001b[32m3819\u001b[39m     \u001b[38;5;28;01mraise\u001b[39;00m \u001b[38;5;167;01mKeyError\u001b[39;00m(key) \u001b[38;5;28;01mfrom\u001b[39;00m\u001b[38;5;250m \u001b[39m\u001b[34;01merr\u001b[39;00m\n\u001b[32m   3820\u001b[39m \u001b[38;5;28;01mexcept\u001b[39;00m \u001b[38;5;167;01mTypeError\u001b[39;00m:\n\u001b[32m   3821\u001b[39m     \u001b[38;5;66;03m# If we have a listlike key, _check_indexing_error will raise\u001b[39;00m\n\u001b[32m   3822\u001b[39m     \u001b[38;5;66;03m#  InvalidIndexError. Otherwise we fall through and re-raise\u001b[39;00m\n\u001b[32m   3823\u001b[39m     \u001b[38;5;66;03m#  the TypeError.\u001b[39;00m\n\u001b[32m   3824\u001b[39m     \u001b[38;5;28mself\u001b[39m._check_indexing_error(key)\n",
      "\u001b[31mKeyError\u001b[39m: 'Sex'"
     ]
    }
   ],
   "source": [
    "# Dodajemy kolumnę 'Group' dla klasyfikacji\n",
    "df['Group'] = 'man'  # domyślnie mężczyzna\n",
    "df.loc[df['Sex'] == 'female', 'Group'] = 'woman'  # kobiety\n",
    "df.loc[df['Age'] < 18, 'Group'] = 'child'  # nadpisujemy dzieci (bez względu na płeć)"
   ]
  },
  {
   "cell_type": "code",
   "execution_count": 11,
   "id": "4d51290c-eec3-4383-b681-38a131363c13",
   "metadata": {},
   "outputs": [
    {
     "ename": "KeyError",
     "evalue": "'Age'",
     "output_type": "error",
     "traceback": [
      "\u001b[31m---------------------------------------------------------------------------\u001b[39m",
      "\u001b[31mKeyError\u001b[39m                                  Traceback (most recent call last)",
      "\u001b[36mFile \u001b[39m\u001b[32m~/data_science_course/venv/lib/python3.13/site-packages/pandas/core/indexes/base.py:3812\u001b[39m, in \u001b[36mIndex.get_loc\u001b[39m\u001b[34m(self, key)\u001b[39m\n\u001b[32m   3811\u001b[39m \u001b[38;5;28;01mtry\u001b[39;00m:\n\u001b[32m-> \u001b[39m\u001b[32m3812\u001b[39m     \u001b[38;5;28;01mreturn\u001b[39;00m \u001b[38;5;28;43mself\u001b[39;49m\u001b[43m.\u001b[49m\u001b[43m_engine\u001b[49m\u001b[43m.\u001b[49m\u001b[43mget_loc\u001b[49m\u001b[43m(\u001b[49m\u001b[43mcasted_key\u001b[49m\u001b[43m)\u001b[49m\n\u001b[32m   3813\u001b[39m \u001b[38;5;28;01mexcept\u001b[39;00m \u001b[38;5;167;01mKeyError\u001b[39;00m \u001b[38;5;28;01mas\u001b[39;00m err:\n",
      "\u001b[36mFile \u001b[39m\u001b[32mpandas/_libs/index.pyx:167\u001b[39m, in \u001b[36mpandas._libs.index.IndexEngine.get_loc\u001b[39m\u001b[34m()\u001b[39m\n",
      "\u001b[36mFile \u001b[39m\u001b[32mpandas/_libs/index.pyx:196\u001b[39m, in \u001b[36mpandas._libs.index.IndexEngine.get_loc\u001b[39m\u001b[34m()\u001b[39m\n",
      "\u001b[36mFile \u001b[39m\u001b[32mpandas/_libs/hashtable_class_helper.pxi:7088\u001b[39m, in \u001b[36mpandas._libs.hashtable.PyObjectHashTable.get_item\u001b[39m\u001b[34m()\u001b[39m\n",
      "\u001b[36mFile \u001b[39m\u001b[32mpandas/_libs/hashtable_class_helper.pxi:7096\u001b[39m, in \u001b[36mpandas._libs.hashtable.PyObjectHashTable.get_item\u001b[39m\u001b[34m()\u001b[39m\n",
      "\u001b[31mKeyError\u001b[39m: 'Age'",
      "\nThe above exception was the direct cause of the following exception:\n",
      "\u001b[31mKeyError\u001b[39m                                  Traceback (most recent call last)",
      "\u001b[36mCell\u001b[39m\u001b[36m \u001b[39m\u001b[32mIn[11]\u001b[39m\u001b[32m, line 4\u001b[39m\n\u001b[32m      2\u001b[39m df[\u001b[33m'\u001b[39m\u001b[33mGroup\u001b[39m\u001b[33m'\u001b[39m] = \u001b[33m'\u001b[39m\u001b[33mman\u001b[39m\u001b[33m'\u001b[39m  \u001b[38;5;66;03m# domyślnie mężczyzna\u001b[39;00m\n\u001b[32m      3\u001b[39m df.loc[df[\u001b[33m'\u001b[39m\u001b[33msex\u001b[39m\u001b[33m'\u001b[39m] == \u001b[33m'\u001b[39m\u001b[33mfemale\u001b[39m\u001b[33m'\u001b[39m, \u001b[33m'\u001b[39m\u001b[33mGroup\u001b[39m\u001b[33m'\u001b[39m] = \u001b[33m'\u001b[39m\u001b[33mwoman\u001b[39m\u001b[33m'\u001b[39m  \u001b[38;5;66;03m# kobiety\u001b[39;00m\n\u001b[32m----> \u001b[39m\u001b[32m4\u001b[39m df.loc[\u001b[43mdf\u001b[49m\u001b[43m[\u001b[49m\u001b[33;43m'\u001b[39;49m\u001b[33;43mAge\u001b[39;49m\u001b[33;43m'\u001b[39;49m\u001b[43m]\u001b[49m < \u001b[32m18\u001b[39m, \u001b[33m'\u001b[39m\u001b[33mGroup\u001b[39m\u001b[33m'\u001b[39m] = \u001b[33m'\u001b[39m\u001b[33mchild\u001b[39m\u001b[33m'\u001b[39m  \u001b[38;5;66;03m# nadpisujemy dzieci (bez względu na płeć)\u001b[39;00m\n",
      "\u001b[36mFile \u001b[39m\u001b[32m~/data_science_course/venv/lib/python3.13/site-packages/pandas/core/frame.py:4107\u001b[39m, in \u001b[36mDataFrame.__getitem__\u001b[39m\u001b[34m(self, key)\u001b[39m\n\u001b[32m   4105\u001b[39m \u001b[38;5;28;01mif\u001b[39;00m \u001b[38;5;28mself\u001b[39m.columns.nlevels > \u001b[32m1\u001b[39m:\n\u001b[32m   4106\u001b[39m     \u001b[38;5;28;01mreturn\u001b[39;00m \u001b[38;5;28mself\u001b[39m._getitem_multilevel(key)\n\u001b[32m-> \u001b[39m\u001b[32m4107\u001b[39m indexer = \u001b[38;5;28;43mself\u001b[39;49m\u001b[43m.\u001b[49m\u001b[43mcolumns\u001b[49m\u001b[43m.\u001b[49m\u001b[43mget_loc\u001b[49m\u001b[43m(\u001b[49m\u001b[43mkey\u001b[49m\u001b[43m)\u001b[49m\n\u001b[32m   4108\u001b[39m \u001b[38;5;28;01mif\u001b[39;00m is_integer(indexer):\n\u001b[32m   4109\u001b[39m     indexer = [indexer]\n",
      "\u001b[36mFile \u001b[39m\u001b[32m~/data_science_course/venv/lib/python3.13/site-packages/pandas/core/indexes/base.py:3819\u001b[39m, in \u001b[36mIndex.get_loc\u001b[39m\u001b[34m(self, key)\u001b[39m\n\u001b[32m   3814\u001b[39m     \u001b[38;5;28;01mif\u001b[39;00m \u001b[38;5;28misinstance\u001b[39m(casted_key, \u001b[38;5;28mslice\u001b[39m) \u001b[38;5;129;01mor\u001b[39;00m (\n\u001b[32m   3815\u001b[39m         \u001b[38;5;28misinstance\u001b[39m(casted_key, abc.Iterable)\n\u001b[32m   3816\u001b[39m         \u001b[38;5;129;01mand\u001b[39;00m \u001b[38;5;28many\u001b[39m(\u001b[38;5;28misinstance\u001b[39m(x, \u001b[38;5;28mslice\u001b[39m) \u001b[38;5;28;01mfor\u001b[39;00m x \u001b[38;5;129;01min\u001b[39;00m casted_key)\n\u001b[32m   3817\u001b[39m     ):\n\u001b[32m   3818\u001b[39m         \u001b[38;5;28;01mraise\u001b[39;00m InvalidIndexError(key)\n\u001b[32m-> \u001b[39m\u001b[32m3819\u001b[39m     \u001b[38;5;28;01mraise\u001b[39;00m \u001b[38;5;167;01mKeyError\u001b[39;00m(key) \u001b[38;5;28;01mfrom\u001b[39;00m\u001b[38;5;250m \u001b[39m\u001b[34;01merr\u001b[39;00m\n\u001b[32m   3820\u001b[39m \u001b[38;5;28;01mexcept\u001b[39;00m \u001b[38;5;167;01mTypeError\u001b[39;00m:\n\u001b[32m   3821\u001b[39m     \u001b[38;5;66;03m# If we have a listlike key, _check_indexing_error will raise\u001b[39;00m\n\u001b[32m   3822\u001b[39m     \u001b[38;5;66;03m#  InvalidIndexError. Otherwise we fall through and re-raise\u001b[39;00m\n\u001b[32m   3823\u001b[39m     \u001b[38;5;66;03m#  the TypeError.\u001b[39;00m\n\u001b[32m   3824\u001b[39m     \u001b[38;5;28mself\u001b[39m._check_indexing_error(key)\n",
      "\u001b[31mKeyError\u001b[39m: 'Age'"
     ]
    }
   ],
   "source": [
    "# Dodajemy kolumnę 'Group' dla klasyfikacji\n",
    "df['Group'] = 'man'  # domyślnie mężczyzna\n",
    "df.loc[df['sex'] == 'female', 'Group'] = 'woman'  # kobiety\n",
    "df.loc[df['Age'] < 18, 'Group'] = 'child'  # nadpisujemy dzieci (bez względu na płeć)"
   ]
  },
  {
   "cell_type": "code",
   "execution_count": 12,
   "id": "b1ec7675-b09a-4b65-9249-314d36a74256",
   "metadata": {},
   "outputs": [],
   "source": [
    "# Dodajemy kolumnę 'Group' dla klasyfikacji\n",
    "df['Group'] = 'man'  # domyślnie mężczyzna\n",
    "df.loc[df['sex'] == 'female', 'Group'] = 'woman'  # kobiety\n",
    "df.loc[df['age'] < 18, 'Group'] = 'child'  # nadpisujemy dzieci (bez względu na płeć)"
   ]
  },
  {
   "cell_type": "code",
   "execution_count": 13,
   "id": "48d4103d-42b1-41e5-8f42-d2395346cd40",
   "metadata": {},
   "outputs": [
    {
     "name": "stdout",
     "output_type": "stream",
     "text": [
      "Liczba osób w grupach:\n",
      "Group\n",
      "man      762\n",
      "woman    394\n",
      "child    154\n",
      "Name: count, dtype: int64\n"
     ]
    }
   ],
   "source": [
    "# Liczebność grup\n",
    "group_counts = df['Group'].value_counts()\n",
    "print(\"Liczba osób w grupach:\")\n",
    "print(group_counts)"
   ]
  },
  {
   "cell_type": "code",
   "execution_count": 14,
   "id": "35f8f79c-a891-483f-ac13-b60327ca3d95",
   "metadata": {},
   "outputs": [
    {
     "name": "stdout",
     "output_type": "stream",
     "text": [
      "Liczba osób w grupach:\n",
      "Group\n",
      "man      762\n",
      "woman    394\n",
      "child    154\n",
      "Name: count, dtype: int64\n"
     ]
    }
   ],
   "source": [
    "# Liczebność grup\n",
    "group_counts = df['Group'].value_counts()\n",
    "print(\"Liczba osób w grupach:\")\n",
    "print(group_counts)"
   ]
  },
  {
   "cell_type": "code",
   "execution_count": 15,
   "id": "dc8a5773-4dc0-45bc-95da-5ba55df58a59",
   "metadata": {},
   "outputs": [
    {
     "ename": "KeyError",
     "evalue": "'Column not found: Survived'",
     "output_type": "error",
     "traceback": [
      "\u001b[31m---------------------------------------------------------------------------\u001b[39m",
      "\u001b[31mKeyError\u001b[39m                                  Traceback (most recent call last)",
      "\u001b[36mCell\u001b[39m\u001b[36m \u001b[39m\u001b[32mIn[15]\u001b[39m\u001b[32m, line 2\u001b[39m\n\u001b[32m      1\u001b[39m \u001b[38;5;66;03m# Liczba przeżytych w grupach\u001b[39;00m\n\u001b[32m----> \u001b[39m\u001b[32m2\u001b[39m survived_by_group = \u001b[43mdf\u001b[49m\u001b[43m.\u001b[49m\u001b[43mgroupby\u001b[49m\u001b[43m(\u001b[49m\u001b[33;43m'\u001b[39;49m\u001b[33;43mGroup\u001b[39;49m\u001b[33;43m'\u001b[39;49m\u001b[43m)\u001b[49m\u001b[43m[\u001b[49m\u001b[33;43m'\u001b[39;49m\u001b[33;43mSurvived\u001b[39;49m\u001b[33;43m'\u001b[39;49m\u001b[43m]\u001b[49m.sum()\n\u001b[32m      3\u001b[39m \u001b[38;5;28mprint\u001b[39m(\u001b[33m\"\u001b[39m\u001b[38;5;130;01m\\n\u001b[39;00m\u001b[33mLiczba przeżytych w grupach:\u001b[39m\u001b[33m\"\u001b[39m)\n\u001b[32m      4\u001b[39m \u001b[38;5;28mprint\u001b[39m(survived_by_group)\n",
      "\u001b[36mFile \u001b[39m\u001b[32m~/data_science_course/venv/lib/python3.13/site-packages/pandas/core/groupby/generic.py:1951\u001b[39m, in \u001b[36mDataFrameGroupBy.__getitem__\u001b[39m\u001b[34m(self, key)\u001b[39m\n\u001b[32m   1944\u001b[39m \u001b[38;5;28;01mif\u001b[39;00m \u001b[38;5;28misinstance\u001b[39m(key, \u001b[38;5;28mtuple\u001b[39m) \u001b[38;5;129;01mand\u001b[39;00m \u001b[38;5;28mlen\u001b[39m(key) > \u001b[32m1\u001b[39m:\n\u001b[32m   1945\u001b[39m     \u001b[38;5;66;03m# if len == 1, then it becomes a SeriesGroupBy and this is actually\u001b[39;00m\n\u001b[32m   1946\u001b[39m     \u001b[38;5;66;03m# valid syntax, so don't raise\u001b[39;00m\n\u001b[32m   1947\u001b[39m     \u001b[38;5;28;01mraise\u001b[39;00m \u001b[38;5;167;01mValueError\u001b[39;00m(\n\u001b[32m   1948\u001b[39m         \u001b[33m\"\u001b[39m\u001b[33mCannot subset columns with a tuple with more than one element. \u001b[39m\u001b[33m\"\u001b[39m\n\u001b[32m   1949\u001b[39m         \u001b[33m\"\u001b[39m\u001b[33mUse a list instead.\u001b[39m\u001b[33m\"\u001b[39m\n\u001b[32m   1950\u001b[39m     )\n\u001b[32m-> \u001b[39m\u001b[32m1951\u001b[39m \u001b[38;5;28;01mreturn\u001b[39;00m \u001b[38;5;28;43msuper\u001b[39;49m\u001b[43m(\u001b[49m\u001b[43m)\u001b[49m\u001b[43m.\u001b[49m\u001b[34;43m__getitem__\u001b[39;49m\u001b[43m(\u001b[49m\u001b[43mkey\u001b[49m\u001b[43m)\u001b[49m\n",
      "\u001b[36mFile \u001b[39m\u001b[32m~/data_science_course/venv/lib/python3.13/site-packages/pandas/core/base.py:245\u001b[39m, in \u001b[36mSelectionMixin.__getitem__\u001b[39m\u001b[34m(self, key)\u001b[39m\n\u001b[32m    243\u001b[39m \u001b[38;5;28;01melse\u001b[39;00m:\n\u001b[32m    244\u001b[39m     \u001b[38;5;28;01mif\u001b[39;00m key \u001b[38;5;129;01mnot\u001b[39;00m \u001b[38;5;129;01min\u001b[39;00m \u001b[38;5;28mself\u001b[39m.obj:\n\u001b[32m--> \u001b[39m\u001b[32m245\u001b[39m         \u001b[38;5;28;01mraise\u001b[39;00m \u001b[38;5;167;01mKeyError\u001b[39;00m(\u001b[33mf\u001b[39m\u001b[33m\"\u001b[39m\u001b[33mColumn not found: \u001b[39m\u001b[38;5;132;01m{\u001b[39;00mkey\u001b[38;5;132;01m}\u001b[39;00m\u001b[33m\"\u001b[39m)\n\u001b[32m    246\u001b[39m     ndim = \u001b[38;5;28mself\u001b[39m.obj[key].ndim\n\u001b[32m    247\u001b[39m     \u001b[38;5;28;01mreturn\u001b[39;00m \u001b[38;5;28mself\u001b[39m._gotitem(key, ndim=ndim)\n",
      "\u001b[31mKeyError\u001b[39m: 'Column not found: Survived'"
     ]
    }
   ],
   "source": [
    "# Liczba przeżytych w grupach\n",
    "survived_by_group = df.groupby('Group')['Survived'].sum()\n",
    "print(\"\\nLiczba przeżytych w grupach:\")\n",
    "print(survived_by_group)\n",
    "\n",
    "# Odsetek przeżytych\n",
    "survival_rate = df.groupby('Group')['Survived'].mean() * 100\n",
    "print(\"\\nOdsetek przeżytych (%):\")\n",
    "print(survival_rate.round(2))"
   ]
  },
  {
   "cell_type": "code",
   "execution_count": 16,
   "id": "27e8ee80-5e83-4b40-bac5-e89e1fdfc2cc",
   "metadata": {},
   "outputs": [
    {
     "name": "stdout",
     "output_type": "stream",
     "text": [
      "\n",
      "Liczba przeżytych w grupach:\n",
      "Group\n",
      "child     81.0\n",
      "man      130.0\n",
      "woman    289.0\n",
      "Name: survived, dtype: float64\n",
      "\n",
      "Odsetek przeżytych (%):\n",
      "Group\n",
      "child    52.60\n",
      "man      17.08\n",
      "woman    73.35\n",
      "Name: survived, dtype: float64\n"
     ]
    }
   ],
   "source": [
    "# Liczba przeżytych w grupach\n",
    "survived_by_group = df.groupby('Group')['survived'].sum()\n",
    "print(\"\\nLiczba przeżytych w grupach:\")\n",
    "print(survived_by_group)\n",
    "\n",
    "# Odsetek przeżytych\n",
    "survival_rate = df.groupby('Group')['survived'].mean() * 100\n",
    "print(\"\\nOdsetek przeżytych (%):\")\n",
    "print(survival_rate.round(2))"
   ]
  },
  {
   "cell_type": "code",
   "execution_count": 17,
   "id": "a1ea08ba-787d-4a86-8b6b-6e058c76c369",
   "metadata": {},
   "outputs": [
    {
     "data": {
      "image/png": "[encoded data removed]",
      "text/plain": [
       "<Figure size 640x480 with 1 Axes>"
      ]
     },
     "metadata": {},
     "output_type": "display_data"
    }
   ],
   "source": [
    "import matplotlib.pyplot as plt\n",
    "\n",
    "survival_rate.plot(kind='bar', color=['#ff9999', '#66b3ff', '#99ff99'])\n",
    "plt.title('Odsetek przeżytych na Titanicu wg grup')\n",
    "plt.ylabel('Odsetek przeżytych (%)')\n",
    "plt.xticks(rotation=0)\n",
    "plt.show()"
   ]
  },
  {
   "cell_type": "code",
   "execution_count": 18,
   "id": "96418dba-aa7f-411a-ab8d-24010e331db9",
   "metadata": {},
   "outputs": [
    {
     "ename": "KeyError",
     "evalue": "'Pclass'",
     "output_type": "error",
     "traceback": [
      "\u001b[31m---------------------------------------------------------------------------\u001b[39m",
      "\u001b[31mKeyError\u001b[39m                                  Traceback (most recent call last)",
      "\u001b[36mFile \u001b[39m\u001b[32m~/data_science_course/venv/lib/python3.13/site-packages/pandas/core/indexes/base.py:3812\u001b[39m, in \u001b[36mIndex.get_loc\u001b[39m\u001b[34m(self, key)\u001b[39m\n\u001b[32m   3811\u001b[39m \u001b[38;5;28;01mtry\u001b[39;00m:\n\u001b[32m-> \u001b[39m\u001b[32m3812\u001b[39m     \u001b[38;5;28;01mreturn\u001b[39;00m \u001b[38;5;28;43mself\u001b[39;49m\u001b[43m.\u001b[49m\u001b[43m_engine\u001b[49m\u001b[43m.\u001b[49m\u001b[43mget_loc\u001b[49m\u001b[43m(\u001b[49m\u001b[43mcasted_key\u001b[49m\u001b[43m)\u001b[49m\n\u001b[32m   3813\u001b[39m \u001b[38;5;28;01mexcept\u001b[39;00m \u001b[38;5;167;01mKeyError\u001b[39;00m \u001b[38;5;28;01mas\u001b[39;00m err:\n",
      "\u001b[36mFile \u001b[39m\u001b[32mpandas/_libs/index.pyx:167\u001b[39m, in \u001b[36mpandas._libs.index.IndexEngine.get_loc\u001b[39m\u001b[34m()\u001b[39m\n",
      "\u001b[36mFile \u001b[39m\u001b[32mpandas/_libs/index.pyx:196\u001b[39m, in \u001b[36mpandas._libs.index.IndexEngine.get_loc\u001b[39m\u001b[34m()\u001b[39m\n",
      "\u001b[36mFile \u001b[39m\u001b[32mpandas/_libs/hashtable_class_helper.pxi:7088\u001b[39m, in \u001b[36mpandas._libs.hashtable.PyObjectHashTable.get_item\u001b[39m\u001b[34m()\u001b[39m\n",
      "\u001b[36mFile \u001b[39m\u001b[32mpandas/_libs/hashtable_class_helper.pxi:7096\u001b[39m, in \u001b[36mpandas._libs.hashtable.PyObjectHashTable.get_item\u001b[39m\u001b[34m()\u001b[39m\n",
      "\u001b[31mKeyError\u001b[39m: 'Pclass'",
      "\nThe above exception was the direct cause of the following exception:\n",
      "\u001b[31mKeyError\u001b[39m                                  Traceback (most recent call last)",
      "\u001b[36mCell\u001b[39m\u001b[36m \u001b[39m\u001b[32mIn[18]\u001b[39m\u001b[32m, line 5\u001b[39m\n\u001b[32m      2\u001b[39m children = df[df[\u001b[33m'\u001b[39m\u001b[33mGroup\u001b[39m\u001b[33m'\u001b[39m] == \u001b[33m'\u001b[39m\u001b[33mchild\u001b[39m\u001b[33m'\u001b[39m]\n\u001b[32m      4\u001b[39m \u001b[38;5;66;03m# Sprawdzamy rozkład klas społecznych wśród dzieci\u001b[39;00m\n\u001b[32m----> \u001b[39m\u001b[32m5\u001b[39m class_distribution = \u001b[43mchildren\u001b[49m\u001b[43m[\u001b[49m\u001b[33;43m'\u001b[39;49m\u001b[33;43mPclass\u001b[39;49m\u001b[33;43m'\u001b[39;49m\u001b[43m]\u001b[49m.value_counts().sort_index()\n\u001b[32m      6\u001b[39m \u001b[38;5;28mprint\u001b[39m(\u001b[33m\"\u001b[39m\u001b[33mLiczba dzieci w każdej klasie:\u001b[39m\u001b[33m\"\u001b[39m)\n\u001b[32m      7\u001b[39m \u001b[38;5;28mprint\u001b[39m(class_distribution)\n",
      "\u001b[36mFile \u001b[39m\u001b[32m~/data_science_course/venv/lib/python3.13/site-packages/pandas/core/frame.py:4107\u001b[39m, in \u001b[36mDataFrame.__getitem__\u001b[39m\u001b[34m(self, key)\u001b[39m\n\u001b[32m   4105\u001b[39m \u001b[38;5;28;01mif\u001b[39;00m \u001b[38;5;28mself\u001b[39m.columns.nlevels > \u001b[32m1\u001b[39m:\n\u001b[32m   4106\u001b[39m     \u001b[38;5;28;01mreturn\u001b[39;00m \u001b[38;5;28mself\u001b[39m._getitem_multilevel(key)\n\u001b[32m-> \u001b[39m\u001b[32m4107\u001b[39m indexer = \u001b[38;5;28;43mself\u001b[39;49m\u001b[43m.\u001b[49m\u001b[43mcolumns\u001b[49m\u001b[43m.\u001b[49m\u001b[43mget_loc\u001b[49m\u001b[43m(\u001b[49m\u001b[43mkey\u001b[49m\u001b[43m)\u001b[49m\n\u001b[32m   4108\u001b[39m \u001b[38;5;28;01mif\u001b[39;00m is_integer(indexer):\n\u001b[32m   4109\u001b[39m     indexer = [indexer]\n",
      "\u001b[36mFile \u001b[39m\u001b[32m~/data_science_course/venv/lib/python3.13/site-packages/pandas/core/indexes/base.py:3819\u001b[39m, in \u001b[36mIndex.get_loc\u001b[39m\u001b[34m(self, key)\u001b[39m\n\u001b[32m   3814\u001b[39m     \u001b[38;5;28;01mif\u001b[39;00m \u001b[38;5;28misinstance\u001b[39m(casted_key, \u001b[38;5;28mslice\u001b[39m) \u001b[38;5;129;01mor\u001b[39;00m (\n\u001b[32m   3815\u001b[39m         \u001b[38;5;28misinstance\u001b[39m(casted_key, abc.Iterable)\n\u001b[32m   3816\u001b[39m         \u001b[38;5;129;01mand\u001b[39;00m \u001b[38;5;28many\u001b[39m(\u001b[38;5;28misinstance\u001b[39m(x, \u001b[38;5;28mslice\u001b[39m) \u001b[38;5;28;01mfor\u001b[39;00m x \u001b[38;5;129;01min\u001b[39;00m casted_key)\n\u001b[32m   3817\u001b[39m     ):\n\u001b[32m   3818\u001b[39m         \u001b[38;5;28;01mraise\u001b[39;00m InvalidIndexError(key)\n\u001b[32m-> \u001b[39m\u001b[32m3819\u001b[39m     \u001b[38;5;28;01mraise\u001b[39;00m \u001b[38;5;167;01mKeyError\u001b[39;00m(key) \u001b[38;5;28;01mfrom\u001b[39;00m\u001b[38;5;250m \u001b[39m\u001b[34;01merr\u001b[39;00m\n\u001b[32m   3820\u001b[39m \u001b[38;5;28;01mexcept\u001b[39;00m \u001b[38;5;167;01mTypeError\u001b[39;00m:\n\u001b[32m   3821\u001b[39m     \u001b[38;5;66;03m# If we have a listlike key, _check_indexing_error will raise\u001b[39;00m\n\u001b[32m   3822\u001b[39m     \u001b[38;5;66;03m#  InvalidIndexError. Otherwise we fall through and re-raise\u001b[39;00m\n\u001b[32m   3823\u001b[39m     \u001b[38;5;66;03m#  the TypeError.\u001b[39;00m\n\u001b[32m   3824\u001b[39m     \u001b[38;5;28mself\u001b[39m._check_indexing_error(key)\n",
      "\u001b[31mKeyError\u001b[39m: 'Pclass'"
     ]
    }
   ],
   "source": [
    "# Filtrujemy tylko dzieci\n",
    "children = df[df['Group'] == 'child']\n",
    "\n",
    "# Sprawdzamy rozkład klas społecznych wśród dzieci\n",
    "class_distribution = children['Pclass'].value_counts().sort_index()\n",
    "print(\"Liczba dzieci w każdej klasie:\")\n",
    "print(class_distribution)\n",
    "\n",
    "# Sprawdzamy przeżywalność dzieci w zależności od klasy\n",
    "survival_by_class = children.groupby('Pclass')['Survived'].mean() * 100\n",
    "print(\"\\nOdsetek przeżytych dzieci wg klasy (%):\")\n",
    "print(survival_by_class.round(2))"
   ]
  },
  {
   "cell_type": "code",
   "execution_count": 19,
   "id": "c124c2cd-f541-4e9f-9335-4a846c9ce29d",
   "metadata": {},
   "outputs": [
    {
     "name": "stdout",
     "output_type": "stream",
     "text": [
      "Liczba dzieci w każdej klasie:\n",
      "pclass\n",
      "1.0     15\n",
      "2.0     33\n",
      "3.0    106\n",
      "Name: count, dtype: int64\n",
      "\n",
      "Odsetek przeżytych dzieci wg klasy (%):\n",
      "pclass\n",
      "1.0    86.67\n",
      "2.0    87.88\n",
      "3.0    36.79\n",
      "Name: survived, dtype: float64\n"
     ]
    }
   ],
   "source": [
    "# Filtrujemy tylko dzieci\n",
    "children = df[df['Group'] == 'child']\n",
    "\n",
    "# Sprawdzamy rozkład klas społecznych wśród dzieci\n",
    "class_distribution = children['pclass'].value_counts().sort_index()\n",
    "print(\"Liczba dzieci w każdej klasie:\")\n",
    "print(class_distribution)\n",
    "\n",
    "# Sprawdzamy przeżywalność dzieci w zależności od klasy\n",
    "survival_by_class = children.groupby('pclass')['survived'].mean() * 100\n",
    "print(\"\\nOdsetek przeżytych dzieci wg klasy (%):\")\n",
    "print(survival_by_class.round(2))"
   ]
  },
  {
   "cell_type": "code",
   "execution_count": 20,
   "id": "eb1341dc-8000-4f2d-88ed-16c3f6feae81",
   "metadata": {},
   "outputs": [
    {
     "data": {
      "image/png": "[encoded data removed]",
      "text/plain": [
       "<Figure size 640x480 with 1 Axes>"
      ]
     },
     "metadata": {},
     "output_type": "display_data"
    }
   ],
   "source": [
    "import matplotlib.pyplot as plt\n",
    "\n",
    "survival_by_class.plot(kind='bar', color=['#ff9999', '#66b3ff', '#99ff99'])\n",
    "plt.title('Przeżywalność dzieci na Titanicu wg klasy')\n",
    "plt.ylabel('Odsetek przeżytych (%)')\n",
    "plt.xlabel('Klasa')\n",
    "plt.xticks(rotation=0)\n",
    "plt.show()"
   ]
  },
  {
   "cell_type": "code",
   "execution_count": 21,
   "id": "56669c3d-9312-4eaa-ae77-97e2287742e6",
   "metadata": {},
   "outputs": [
    {
     "name": "stdout",
     "output_type": "stream",
     "text": [
      "Collecting pytesseract\n",
      "  Downloading pytesseract-0.3.13-py3-none-any.whl.metadata (11 kB)\n",
      "Requirement already satisfied: pillow in ./venv/lib/python3.13/site-packages (11.3.0)\n",
      "Requirement already satisfied: packaging>=21.3 in ./venv/lib/python3.13/site-packages (from pytesseract) (25.0)\n",
      "Downloading pytesseract-0.3.13-py3-none-any.whl (14 kB)\n",
      "Installing collected packages: pytesseract\n",
      "Successfully installed pytesseract-0.3.13\n"
     ]
    }
   ],
   "source": [
    "!pip install pytesseract pillow"
   ]
  },
  {
   "cell_type": "code",
   "execution_count": 22,
   "id": "42117567-f47f-4f75-bef1-5fbf7b9ce67a",
   "metadata": {},
   "outputs": [],
   "source": [
    "import sqlite3\n",
    "import pandas as pd\n",
    "import pytesseract\n",
    "from PIL import Image\n",
    "import glob\n",
    "import re"
   ]
  },
  {
   "cell_type": "code",
   "execution_count": 23,
   "id": "eda859a9-5ec7-4eaa-b621-1a6a70d726ce",
   "metadata": {},
   "outputs": [],
   "source": [
    "conn = sqlite3.connect('zad_domowe__clients.db')\n",
    "clients_df = pd.read_sql_query(\"SELECT * FROM clients\", conn)\n",
    "conn.close()"
   ]
  },
  {
   "cell_type": "code",
   "execution_count": 24,
   "id": "255ddc53-8fdd-4f5b-b382-aae416215881",
   "metadata": {},
   "outputs": [],
   "source": [
    "products_df = pd.read_csv('zad_domowe__products.csv')"
   ]
  },
  {
   "cell_type": "code",
   "execution_count": 25,
   "id": "db87c995-aaa3-4f23-99b3-8734a3a4cb64",
   "metadata": {},
   "outputs": [],
   "source": [
    "# Lista na dane z faktur\n",
    "invoices_data = []\n",
    "\n",
    "# Przetwarzaj każdy plik faktury\n",
    "for img_path in sorted(glob.glob('zad_domowe__invoice_*.png')):\n",
    "    # Wczytaj obraz i zastosuj OCR\n",
    "    text = pytesseract.image_to_string(Image.open(img_path))\n",
    "    \n",
    "    # Przykładowe parsowanie (dostosuj regex do formatu faktur!)\n",
    "    # Zakładamy, że faktura ma: Invoice ID, Client ID, Product ID, Quantity, Unit Price\n",
    "    patterns = {\n",
    "        'invoice_id': r'Invoice ID:\\s*(\\d+)',\n",
    "        'client_id': r'Client ID:\\s*(\\d+)',\n",
    "        'product_id': r'Product ID:\\s*(\\d+)',\n",
    "        'quantity': r'Quantity:\\s*(\\d+)',\n",
    "        'unit_price': r'Unit Price:\\s*(\\d+\\.\\d+)'\n",
    "    }\n",
    "    \n",
    "    extracted = {}\n",
    "    for key, pattern in patterns.items():\n",
    "        match = re.search(pattern, text)\n",
    "        if match:\n",
    "            extracted[key] = match.group(1)\n",
    "        else:\n",
    "            extracted[key] = None\n",
    "    \n",
    "    invoices_data.append(extracted)\n",
    "\n",
    "# Stwórz DataFrame z faktur\n",
    "invoices_df = pd.DataFrame(invoices_data)"
   ]
  },
  {
   "cell_type": "code",
   "execution_count": 26,
   "id": "f4b801b8-ef4d-478b-bbf6-1d85ef8d2093",
   "metadata": {},
   "outputs": [
    {
     "ename": "KeyError",
     "evalue": "'client_id'",
     "output_type": "error",
     "traceback": [
      "\u001b[31m---------------------------------------------------------------------------\u001b[39m",
      "\u001b[31mKeyError\u001b[39m                                  Traceback (most recent call last)",
      "\u001b[32m/tmp/ipykernel_485791/1959960133.py\u001b[39m in \u001b[36m?\u001b[39m\u001b[34m()\u001b[39m\n\u001b[32m      1\u001b[39m \u001b[38;5;66;03m# Połącz faktury z klientami\u001b[39;00m\n\u001b[32m----> \u001b[39m\u001b[32m2\u001b[39m merged_df = invoices_df.merge(clients_df, on=\u001b[33m'client_id'\u001b[39m, how=\u001b[33m'left'\u001b[39m)\n\u001b[32m      3\u001b[39m \n\u001b[32m      4\u001b[39m \u001b[38;5;66;03m# Połącz z produktami\u001b[39;00m\n\u001b[32m      5\u001b[39m final_df = merged_df.merge(products_df, on=\u001b[33m'product_id'\u001b[39m, how=\u001b[33m'left'\u001b[39m)\n",
      "\u001b[32m~/data_science_course/venv/lib/python3.13/site-packages/pandas/core/frame.py\u001b[39m in \u001b[36m?\u001b[39m\u001b[34m(self, right, how, on, left_on, right_on, left_index, right_index, sort, suffixes, copy, indicator, validate)\u001b[39m\n\u001b[32m  10835\u001b[39m         validate: MergeValidate | \u001b[38;5;28;01mNone\u001b[39;00m = \u001b[38;5;28;01mNone\u001b[39;00m,\n\u001b[32m  10836\u001b[39m     ) -> DataFrame:\n\u001b[32m  10837\u001b[39m         \u001b[38;5;28;01mfrom\u001b[39;00m pandas.core.reshape.merge \u001b[38;5;28;01mimport\u001b[39;00m merge\n\u001b[32m  10838\u001b[39m \n\u001b[32m> \u001b[39m\u001b[32m10839\u001b[39m         return merge(\n\u001b[32m  10840\u001b[39m             self,\n\u001b[32m  10841\u001b[39m             right,\n\u001b[32m  10842\u001b[39m             how=how,\n",
      "\u001b[32m~/data_science_course/venv/lib/python3.13/site-packages/pandas/core/reshape/merge.py\u001b[39m in \u001b[36m?\u001b[39m\u001b[34m(left, right, how, on, left_on, right_on, left_index, right_index, sort, suffixes, copy, indicator, validate)\u001b[39m\n\u001b[32m    166\u001b[39m             validate=validate,\n\u001b[32m    167\u001b[39m             copy=copy,\n\u001b[32m    168\u001b[39m         )\n\u001b[32m    169\u001b[39m     \u001b[38;5;28;01melse\u001b[39;00m:\n\u001b[32m--> \u001b[39m\u001b[32m170\u001b[39m         op = _MergeOperation(\n\u001b[32m    171\u001b[39m             left_df,\n\u001b[32m    172\u001b[39m             right_df,\n\u001b[32m    173\u001b[39m             how=how,\n",
      "\u001b[32m~/data_science_course/venv/lib/python3.13/site-packages/pandas/core/reshape/merge.py\u001b[39m in \u001b[36m?\u001b[39m\u001b[34m(self, left, right, how, on, left_on, right_on, left_index, right_index, sort, suffixes, indicator, validate)\u001b[39m\n\u001b[32m    790\u001b[39m             self.right_join_keys,\n\u001b[32m    791\u001b[39m             self.join_names,\n\u001b[32m    792\u001b[39m             left_drop,\n\u001b[32m    793\u001b[39m             right_drop,\n\u001b[32m--> \u001b[39m\u001b[32m794\u001b[39m         ) = self._get_merge_keys()\n\u001b[32m    795\u001b[39m \n\u001b[32m    796\u001b[39m         \u001b[38;5;28;01mif\u001b[39;00m left_drop:\n\u001b[32m    797\u001b[39m             self.left = self.left._drop_labels_or_levels(left_drop)\n",
      "\u001b[32m~/data_science_course/venv/lib/python3.13/site-packages/pandas/core/reshape/merge.py\u001b[39m in \u001b[36m?\u001b[39m\u001b[34m(self)\u001b[39m\n\u001b[32m   1294\u001b[39m                         \u001b[38;5;66;03m# Then we're either Hashable or a wrong-length arraylike,\u001b[39;00m\n\u001b[32m   1295\u001b[39m                         \u001b[38;5;66;03m#  the latter of which will raise\u001b[39;00m\n\u001b[32m   1296\u001b[39m                         rk = cast(Hashable, rk)\n\u001b[32m   1297\u001b[39m                         \u001b[38;5;28;01mif\u001b[39;00m rk \u001b[38;5;28;01mis\u001b[39;00m \u001b[38;5;28;01mnot\u001b[39;00m \u001b[38;5;28;01mNone\u001b[39;00m:\n\u001b[32m-> \u001b[39m\u001b[32m1298\u001b[39m                             right_keys.append(right._get_label_or_level_values(rk))\n\u001b[32m   1299\u001b[39m                         \u001b[38;5;28;01melse\u001b[39;00m:\n\u001b[32m   1300\u001b[39m                             \u001b[38;5;66;03m# work-around for merge_asof(right_index=True)\u001b[39;00m\n\u001b[32m   1301\u001b[39m                             right_keys.append(right.index._values)\n",
      "\u001b[32m~/data_science_course/venv/lib/python3.13/site-packages/pandas/core/generic.py\u001b[39m in \u001b[36m?\u001b[39m\u001b[34m(self, key, axis)\u001b[39m\n\u001b[32m   1907\u001b[39m             values = self.xs(key, axis=other_axes[\u001b[32m0\u001b[39m])._values\n\u001b[32m   1908\u001b[39m         \u001b[38;5;28;01melif\u001b[39;00m self._is_level_reference(key, axis=axis):\n\u001b[32m   1909\u001b[39m             values = self.axes[axis].get_level_values(key)._values\n\u001b[32m   1910\u001b[39m         \u001b[38;5;28;01melse\u001b[39;00m:\n\u001b[32m-> \u001b[39m\u001b[32m1911\u001b[39m             \u001b[38;5;28;01mraise\u001b[39;00m KeyError(key)\n\u001b[32m   1912\u001b[39m \n\u001b[32m   1913\u001b[39m         \u001b[38;5;66;03m# Check for duplicates\u001b[39;00m\n\u001b[32m   1914\u001b[39m         \u001b[38;5;28;01mif\u001b[39;00m values.ndim > \u001b[32m1\u001b[39m:\n",
      "\u001b[31mKeyError\u001b[39m: 'client_id'"
     ]
    }
   ],
   "source": [
    "# Połącz faktury z klientami\n",
    "merged_df = invoices_df.merge(clients_df, on='client_id', how='left')\n",
    "\n",
    "# Połącz z produktami\n",
    "final_df = merged_df.merge(products_df, on='product_id', how='left')"
   ]
  },
  {
   "cell_type": "code",
   "execution_count": 27,
   "id": "7bac7b67-c3c5-40d4-a066-f5499a952b65",
   "metadata": {},
   "outputs": [
    {
     "name": "stdout",
     "output_type": "stream",
     "text": [
      "Kolumny w invoices_df: ['invoice_id', 'client_id', 'product_id', 'quantity', 'unit_price']\n",
      "Kolumny w clients_df: ['id', 'name', 'email', 'phone']\n",
      "Kolumny w products_df: ['id;name;price']\n"
     ]
    }
   ],
   "source": [
    "print(\"Kolumny w invoices_df:\", invoices_df.columns.tolist())\n",
    "print(\"Kolumny w clients_df:\", clients_df.columns.tolist())\n",
    "print(\"Kolumny w products_df:\", products_df.columns.tolist())"
   ]
  },
  {
   "cell_type": "code",
   "execution_count": 28,
   "id": "5ab5582e-a1ad-4ab4-b04b-2998ce1de280",
   "metadata": {},
   "outputs": [],
   "source": [
    "clients_df = clients_df.rename(columns={'id': 'client_id'})"
   ]
  },
  {
   "cell_type": "code",
   "execution_count": 29,
   "id": "f5f5e497-c6b9-43e9-afec-998e6120bb69",
   "metadata": {},
   "outputs": [],
   "source": [
    "products_df = pd.read_csv('zad_domowe__products.csv', sep=';')"
   ]
  },
  {
   "cell_type": "code",
   "execution_count": 30,
   "id": "554ab4a3-ddec-4ef9-8df9-c4f69153e46f",
   "metadata": {},
   "outputs": [
    {
     "name": "stdout",
     "output_type": "stream",
     "text": [
      "Kolumny w clients_df: ['client_id', 'name', 'email', 'phone']\n",
      "Kolumny w products_df: ['id', 'name', 'price']\n"
     ]
    }
   ],
   "source": [
    "print(\"Kolumny w clients_df:\", clients_df.columns.tolist())\n",
    "print(\"Kolumny w products_df:\", products_df.columns.tolist())"
   ]
  },
  {
   "cell_type": "code",
   "execution_count": 31,
   "id": "053ce680-6622-46f0-999b-65435dfbb5d3",
   "metadata": {},
   "outputs": [],
   "source": [
    "products_df = products_df.rename(columns={'id': 'product_id'})"
   ]
  },
  {
   "cell_type": "code",
   "execution_count": 32,
   "id": "5fb7d4f7-31aa-4bec-bd3e-0548ca14918f",
   "metadata": {},
   "outputs": [
    {
     "ename": "ValueError",
     "evalue": "You are trying to merge on object and int64 columns for key 'client_id'. If you wish to proceed you should use pd.concat",
     "output_type": "error",
     "traceback": [
      "\u001b[31m---------------------------------------------------------------------------\u001b[39m",
      "\u001b[31mValueError\u001b[39m                                Traceback (most recent call last)",
      "\u001b[36mCell\u001b[39m\u001b[36m \u001b[39m\u001b[32mIn[32]\u001b[39m\u001b[32m, line 1\u001b[39m\n\u001b[32m----> \u001b[39m\u001b[32m1\u001b[39m merged_df = \u001b[43minvoices_df\u001b[49m\u001b[43m.\u001b[49m\u001b[43mmerge\u001b[49m\u001b[43m(\u001b[49m\u001b[43mclients_df\u001b[49m\u001b[43m,\u001b[49m\u001b[43m \u001b[49m\u001b[43mon\u001b[49m\u001b[43m=\u001b[49m\u001b[33;43m'\u001b[39;49m\u001b[33;43mclient_id\u001b[39;49m\u001b[33;43m'\u001b[39;49m\u001b[43m,\u001b[49m\u001b[43m \u001b[49m\u001b[43mhow\u001b[49m\u001b[43m=\u001b[49m\u001b[33;43m'\u001b[39;49m\u001b[33;43mleft\u001b[39;49m\u001b[33;43m'\u001b[39;49m\u001b[43m)\u001b[49m\n\u001b[32m      2\u001b[39m final_df = merged_df.merge(products_df, on=\u001b[33m'\u001b[39m\u001b[33mproduct_id\u001b[39m\u001b[33m'\u001b[39m, how=\u001b[33m'\u001b[39m\u001b[33mleft\u001b[39m\u001b[33m'\u001b[39m)\n",
      "\u001b[36mFile \u001b[39m\u001b[32m~/data_science_course/venv/lib/python3.13/site-packages/pandas/core/frame.py:10839\u001b[39m, in \u001b[36mDataFrame.merge\u001b[39m\u001b[34m(self, right, how, on, left_on, right_on, left_index, right_index, sort, suffixes, copy, indicator, validate)\u001b[39m\n\u001b[32m  10820\u001b[39m \u001b[38;5;129m@Substitution\u001b[39m(\u001b[33m\"\u001b[39m\u001b[33m\"\u001b[39m)\n\u001b[32m  10821\u001b[39m \u001b[38;5;129m@Appender\u001b[39m(_merge_doc, indents=\u001b[32m2\u001b[39m)\n\u001b[32m  10822\u001b[39m \u001b[38;5;28;01mdef\u001b[39;00m\u001b[38;5;250m \u001b[39m\u001b[34mmerge\u001b[39m(\n\u001b[32m   (...)\u001b[39m\u001b[32m  10835\u001b[39m     validate: MergeValidate | \u001b[38;5;28;01mNone\u001b[39;00m = \u001b[38;5;28;01mNone\u001b[39;00m,\n\u001b[32m  10836\u001b[39m ) -> DataFrame:\n\u001b[32m  10837\u001b[39m     \u001b[38;5;28;01mfrom\u001b[39;00m\u001b[38;5;250m \u001b[39m\u001b[34;01mpandas\u001b[39;00m\u001b[34;01m.\u001b[39;00m\u001b[34;01mcore\u001b[39;00m\u001b[34;01m.\u001b[39;00m\u001b[34;01mreshape\u001b[39;00m\u001b[34;01m.\u001b[39;00m\u001b[34;01mmerge\u001b[39;00m\u001b[38;5;250m \u001b[39m\u001b[38;5;28;01mimport\u001b[39;00m merge\n\u001b[32m> \u001b[39m\u001b[32m10839\u001b[39m     \u001b[38;5;28;01mreturn\u001b[39;00m \u001b[43mmerge\u001b[49m\u001b[43m(\u001b[49m\n\u001b[32m  10840\u001b[39m \u001b[43m        \u001b[49m\u001b[38;5;28;43mself\u001b[39;49m\u001b[43m,\u001b[49m\n\u001b[32m  10841\u001b[39m \u001b[43m        \u001b[49m\u001b[43mright\u001b[49m\u001b[43m,\u001b[49m\n\u001b[32m  10842\u001b[39m \u001b[43m        \u001b[49m\u001b[43mhow\u001b[49m\u001b[43m=\u001b[49m\u001b[43mhow\u001b[49m\u001b[43m,\u001b[49m\n\u001b[32m  10843\u001b[39m \u001b[43m        \u001b[49m\u001b[43mon\u001b[49m\u001b[43m=\u001b[49m\u001b[43mon\u001b[49m\u001b[43m,\u001b[49m\n\u001b[32m  10844\u001b[39m \u001b[43m        \u001b[49m\u001b[43mleft_on\u001b[49m\u001b[43m=\u001b[49m\u001b[43mleft_on\u001b[49m\u001b[43m,\u001b[49m\n\u001b[32m  10845\u001b[39m \u001b[43m        \u001b[49m\u001b[43mright_on\u001b[49m\u001b[43m=\u001b[49m\u001b[43mright_on\u001b[49m\u001b[43m,\u001b[49m\n\u001b[32m  10846\u001b[39m \u001b[43m        \u001b[49m\u001b[43mleft_index\u001b[49m\u001b[43m=\u001b[49m\u001b[43mleft_index\u001b[49m\u001b[43m,\u001b[49m\n\u001b[32m  10847\u001b[39m \u001b[43m        \u001b[49m\u001b[43mright_index\u001b[49m\u001b[43m=\u001b[49m\u001b[43mright_index\u001b[49m\u001b[43m,\u001b[49m\n\u001b[32m  10848\u001b[39m \u001b[43m        \u001b[49m\u001b[43msort\u001b[49m\u001b[43m=\u001b[49m\u001b[43msort\u001b[49m\u001b[43m,\u001b[49m\n\u001b[32m  10849\u001b[39m \u001b[43m        \u001b[49m\u001b[43msuffixes\u001b[49m\u001b[43m=\u001b[49m\u001b[43msuffixes\u001b[49m\u001b[43m,\u001b[49m\n\u001b[32m  10850\u001b[39m \u001b[43m        \u001b[49m\u001b[43mcopy\u001b[49m\u001b[43m=\u001b[49m\u001b[43mcopy\u001b[49m\u001b[43m,\u001b[49m\n\u001b[32m  10851\u001b[39m \u001b[43m        \u001b[49m\u001b[43mindicator\u001b[49m\u001b[43m=\u001b[49m\u001b[43mindicator\u001b[49m\u001b[43m,\u001b[49m\n\u001b[32m  10852\u001b[39m \u001b[43m        \u001b[49m\u001b[43mvalidate\u001b[49m\u001b[43m=\u001b[49m\u001b[43mvalidate\u001b[49m\u001b[43m,\u001b[49m\n\u001b[32m  10853\u001b[39m \u001b[43m    \u001b[49m\u001b[43m)\u001b[49m\n",
      "\u001b[36mFile \u001b[39m\u001b[32m~/data_science_course/venv/lib/python3.13/site-packages/pandas/core/reshape/merge.py:170\u001b[39m, in \u001b[36mmerge\u001b[39m\u001b[34m(left, right, how, on, left_on, right_on, left_index, right_index, sort, suffixes, copy, indicator, validate)\u001b[39m\n\u001b[32m    155\u001b[39m     \u001b[38;5;28;01mreturn\u001b[39;00m _cross_merge(\n\u001b[32m    156\u001b[39m         left_df,\n\u001b[32m    157\u001b[39m         right_df,\n\u001b[32m   (...)\u001b[39m\u001b[32m    167\u001b[39m         copy=copy,\n\u001b[32m    168\u001b[39m     )\n\u001b[32m    169\u001b[39m \u001b[38;5;28;01melse\u001b[39;00m:\n\u001b[32m--> \u001b[39m\u001b[32m170\u001b[39m     op = \u001b[43m_MergeOperation\u001b[49m\u001b[43m(\u001b[49m\n\u001b[32m    171\u001b[39m \u001b[43m        \u001b[49m\u001b[43mleft_df\u001b[49m\u001b[43m,\u001b[49m\n\u001b[32m    172\u001b[39m \u001b[43m        \u001b[49m\u001b[43mright_df\u001b[49m\u001b[43m,\u001b[49m\n\u001b[32m    173\u001b[39m \u001b[43m        \u001b[49m\u001b[43mhow\u001b[49m\u001b[43m=\u001b[49m\u001b[43mhow\u001b[49m\u001b[43m,\u001b[49m\n\u001b[32m    174\u001b[39m \u001b[43m        \u001b[49m\u001b[43mon\u001b[49m\u001b[43m=\u001b[49m\u001b[43mon\u001b[49m\u001b[43m,\u001b[49m\n\u001b[32m    175\u001b[39m \u001b[43m        \u001b[49m\u001b[43mleft_on\u001b[49m\u001b[43m=\u001b[49m\u001b[43mleft_on\u001b[49m\u001b[43m,\u001b[49m\n\u001b[32m    176\u001b[39m \u001b[43m        \u001b[49m\u001b[43mright_on\u001b[49m\u001b[43m=\u001b[49m\u001b[43mright_on\u001b[49m\u001b[43m,\u001b[49m\n\u001b[32m    177\u001b[39m \u001b[43m        \u001b[49m\u001b[43mleft_index\u001b[49m\u001b[43m=\u001b[49m\u001b[43mleft_index\u001b[49m\u001b[43m,\u001b[49m\n\u001b[32m    178\u001b[39m \u001b[43m        \u001b[49m\u001b[43mright_index\u001b[49m\u001b[43m=\u001b[49m\u001b[43mright_index\u001b[49m\u001b[43m,\u001b[49m\n\u001b[32m    179\u001b[39m \u001b[43m        \u001b[49m\u001b[43msort\u001b[49m\u001b[43m=\u001b[49m\u001b[43msort\u001b[49m\u001b[43m,\u001b[49m\n\u001b[32m    180\u001b[39m \u001b[43m        \u001b[49m\u001b[43msuffixes\u001b[49m\u001b[43m=\u001b[49m\u001b[43msuffixes\u001b[49m\u001b[43m,\u001b[49m\n\u001b[32m    181\u001b[39m \u001b[43m        \u001b[49m\u001b[43mindicator\u001b[49m\u001b[43m=\u001b[49m\u001b[43mindicator\u001b[49m\u001b[43m,\u001b[49m\n\u001b[32m    182\u001b[39m \u001b[43m        \u001b[49m\u001b[43mvalidate\u001b[49m\u001b[43m=\u001b[49m\u001b[43mvalidate\u001b[49m\u001b[43m,\u001b[49m\n\u001b[32m    183\u001b[39m \u001b[43m    \u001b[49m\u001b[43m)\u001b[49m\n\u001b[32m    184\u001b[39m     \u001b[38;5;28;01mreturn\u001b[39;00m op.get_result(copy=copy)\n",
      "\u001b[36mFile \u001b[39m\u001b[32m~/data_science_course/venv/lib/python3.13/site-packages/pandas/core/reshape/merge.py:807\u001b[39m, in \u001b[36m_MergeOperation.__init__\u001b[39m\u001b[34m(self, left, right, how, on, left_on, right_on, left_index, right_index, sort, suffixes, indicator, validate)\u001b[39m\n\u001b[32m    803\u001b[39m \u001b[38;5;28mself\u001b[39m._validate_tolerance(\u001b[38;5;28mself\u001b[39m.left_join_keys)\n\u001b[32m    805\u001b[39m \u001b[38;5;66;03m# validate the merge keys dtypes. We may need to coerce\u001b[39;00m\n\u001b[32m    806\u001b[39m \u001b[38;5;66;03m# to avoid incompatible dtypes\u001b[39;00m\n\u001b[32m--> \u001b[39m\u001b[32m807\u001b[39m \u001b[38;5;28;43mself\u001b[39;49m\u001b[43m.\u001b[49m\u001b[43m_maybe_coerce_merge_keys\u001b[49m\u001b[43m(\u001b[49m\u001b[43m)\u001b[49m\n\u001b[32m    809\u001b[39m \u001b[38;5;66;03m# If argument passed to validate,\u001b[39;00m\n\u001b[32m    810\u001b[39m \u001b[38;5;66;03m# check if columns specified as unique\u001b[39;00m\n\u001b[32m    811\u001b[39m \u001b[38;5;66;03m# are in fact unique.\u001b[39;00m\n\u001b[32m    812\u001b[39m \u001b[38;5;28;01mif\u001b[39;00m validate \u001b[38;5;129;01mis\u001b[39;00m \u001b[38;5;129;01mnot\u001b[39;00m \u001b[38;5;28;01mNone\u001b[39;00m:\n",
      "\u001b[36mFile \u001b[39m\u001b[32m~/data_science_course/venv/lib/python3.13/site-packages/pandas/core/reshape/merge.py:1509\u001b[39m, in \u001b[36m_MergeOperation._maybe_coerce_merge_keys\u001b[39m\u001b[34m(self)\u001b[39m\n\u001b[32m   1503\u001b[39m     \u001b[38;5;66;03m# unless we are merging non-string-like with string-like\u001b[39;00m\n\u001b[32m   1504\u001b[39m     \u001b[38;5;28;01melif\u001b[39;00m (\n\u001b[32m   1505\u001b[39m         inferred_left \u001b[38;5;129;01min\u001b[39;00m string_types \u001b[38;5;129;01mand\u001b[39;00m inferred_right \u001b[38;5;129;01mnot\u001b[39;00m \u001b[38;5;129;01min\u001b[39;00m string_types\n\u001b[32m   1506\u001b[39m     ) \u001b[38;5;129;01mor\u001b[39;00m (\n\u001b[32m   1507\u001b[39m         inferred_right \u001b[38;5;129;01min\u001b[39;00m string_types \u001b[38;5;129;01mand\u001b[39;00m inferred_left \u001b[38;5;129;01mnot\u001b[39;00m \u001b[38;5;129;01min\u001b[39;00m string_types\n\u001b[32m   1508\u001b[39m     ):\n\u001b[32m-> \u001b[39m\u001b[32m1509\u001b[39m         \u001b[38;5;28;01mraise\u001b[39;00m \u001b[38;5;167;01mValueError\u001b[39;00m(msg)\n\u001b[32m   1511\u001b[39m \u001b[38;5;66;03m# datetimelikes must match exactly\u001b[39;00m\n\u001b[32m   1512\u001b[39m \u001b[38;5;28;01melif\u001b[39;00m needs_i8_conversion(lk.dtype) \u001b[38;5;129;01mand\u001b[39;00m \u001b[38;5;129;01mnot\u001b[39;00m needs_i8_conversion(rk.dtype):\n",
      "\u001b[31mValueError\u001b[39m: You are trying to merge on object and int64 columns for key 'client_id'. If you wish to proceed you should use pd.concat"
     ]
    }
   ],
   "source": [
    "merged_df = invoices_df.merge(clients_df, on='client_id', how='left')\n",
    "final_df = merged_df.merge(products_df, on='product_id', how='left')"
   ]
  },
  {
   "cell_type": "code",
   "execution_count": 33,
   "id": "e773527a-c36a-4b8e-9c77-212222733e05",
   "metadata": {},
   "outputs": [],
   "source": [
    "# Konwersja client_id i product_id na liczby\n",
    "invoices_df['client_id'] = pd.to_numeric(invoices_df['client_id'])\n",
    "invoices_df['product_id'] = pd.to_numeric(invoices_df['product_id'])\n",
    "invoices_df['quantity'] = pd.to_numeric(invoices_df['quantity'])\n",
    "invoices_df['unit_price'] = pd.to_numeric(invoices_df['unit_price'])"
   ]
  },
  {
   "cell_type": "code",
   "execution_count": 34,
   "id": "8198512e-dc81-4623-bd86-ff6fc9e055cc",
   "metadata": {},
   "outputs": [],
   "source": [
    "merged_df = invoices_df.merge(clients_df, on='client_id', how='left')\n",
    "final_df = merged_df.merge(products_df, on='product_id', how='left')"
   ]
  },
  {
   "cell_type": "code",
   "execution_count": 35,
   "id": "06c99681-270f-4bf5-affc-8a6d0ef93802",
   "metadata": {},
   "outputs": [
    {
     "name": "stdout",
     "output_type": "stream",
     "text": [
      "Typy w invoices_df:\n",
      "invoice_id     object\n",
      "client_id     float64\n",
      "product_id    float64\n",
      "quantity      float64\n",
      "unit_price    float64\n",
      "dtype: object\n",
      "\n",
      "Typy w clients_df:\n",
      "client_id     int64\n",
      "name         object\n",
      "email        object\n",
      "phone        object\n",
      "dtype: object\n"
     ]
    }
   ],
   "source": [
    "print(\"Typy w invoices_df:\")\n",
    "print(invoices_df.dtypes)\n",
    "print(\"\\nTypy w clients_df:\")\n",
    "print(clients_df.dtypes)"
   ]
  },
  {
   "cell_type": "code",
   "execution_count": 36,
   "id": "020aeb8b-4b31-40e8-a624-15870658d8e7",
   "metadata": {},
   "outputs": [
    {
     "name": "stdout",
     "output_type": "stream",
     "text": [
      "['invoice_id', 'client_id', 'product_id', 'quantity', 'unit_price', 'name_x', 'email', 'phone', 'name_y', 'price']\n"
     ]
    }
   ],
   "source": [
    "print(final_df.columns.tolist())"
   ]
  },
  {
   "cell_type": "code",
   "execution_count": 37,
   "id": "42019548-364c-4fab-81c4-3e28235e4701",
   "metadata": {},
   "outputs": [],
   "source": [
    "final_df.to_csv('wynik.csv', index=False)"
   ]
  },
  {
   "cell_type": "code",
   "execution_count": 38,
   "id": "621f83ee-1a1f-426d-867d-a0cb50855db4",
   "metadata": {},
   "outputs": [
    {
     "name": "stdout",
     "output_type": "stream",
     "text": [
      "  invoice_id  client_id  product_id  quantity  unit_price name_x email phone  \\\n",
      "0       None        NaN         NaN       NaN         NaN    NaN   NaN   NaN   \n",
      "1       None        NaN         NaN       NaN         NaN    NaN   NaN   NaN   \n",
      "2       None        NaN         NaN       NaN         NaN    NaN   NaN   NaN   \n",
      "3       None        NaN         NaN       NaN         NaN    NaN   NaN   NaN   \n",
      "4       None        NaN         NaN       NaN         NaN    NaN   NaN   NaN   \n",
      "\n",
      "  name_y  price  \n",
      "0    NaN    NaN  \n",
      "1    NaN    NaN  \n",
      "2    NaN    NaN  \n",
      "3    NaN    NaN  \n",
      "4    NaN    NaN  \n"
     ]
    }
   ],
   "source": [
    "print(final_df.head())"
   ]
  },
  {
   "cell_type": "code",
   "execution_count": 39,
   "id": "70318fc3-4112-4361-b7a1-f4cc15118b75",
   "metadata": {},
   "outputs": [],
   "source": [
    "patterns = {\n",
    "    'invoice_id': r'Faktura\\s*#:\\s*(\\d+)',\n",
    "    'client_id': r'id klienta\\s*(\\d+)',\n",
    "    'product_id': r'id produktu\\s*(\\d+)',\n",
    "    'quantity': r'\\|\\s*\\w+\\s*\\|\\s*(\\d+)\\s*\\|',\n",
    "    'unit_price': r'\\$\\s*(\\d+\\.\\d+)'\n",
    "}"
   ]
  },
  {
   "cell_type": "code",
   "execution_count": 40,
   "id": "f1d71051-8ac8-49c1-a923-c3b380f2dd46",
   "metadata": {},
   "outputs": [],
   "source": [
    "invoices_data = []\n",
    "for img_path in sorted(glob.glob('zad_domowe__invoice_*.png')):\n",
    "    text = pytesseract.image_to_string(Image.open(img_path))\n",
    "    \n",
    "    extracted = {}\n",
    "    # Invoice ID\n",
    "    match_inv = re.search(r'Faktura\\s*#:\\s*(\\d+)', text)\n",
    "    extracted['invoice_id'] = match_inv.group(1) if match_inv else None\n",
    "    \n",
    "    # Client ID\n",
    "    match_client = re.search(r'id klienta\\s*(\\d+)', text)\n",
    "    extracted['client_id'] = match_client.group(1) if match_client else None\n",
    "    \n",
    "    # Product ID\n",
    "    match_prod = re.search(r'id produktu\\s*(\\d+)', text)\n",
    "    extracted['product_id'] = match_prod.group(1) if match_prod else None\n",
    "    \n",
    "    # Quantity (szukamy liczby w linii z produktem)\n",
    "    match_qty = re.search(r'\\|\\s*\\w+\\s*\\|\\s*(\\d+)\\s*\\|', text)\n",
    "    extracted['quantity'] = match_qty.group(1) if match_qty else None\n",
    "    \n",
    "    # Unit Price (bierzemy pierwszą cenę po $)\n",
    "    match_price = re.search(r'\\$\\s*(\\d+\\.\\d+)', text)\n",
    "    extracted['unit_price'] = match_price.group(1) if match_price else None\n",
    "    \n",
    "    invoices_data.append(extracted)\n",
    "\n",
    "invoices_df = pd.DataFrame(invoices_data)"
   ]
  },
  {
   "cell_type": "code",
   "execution_count": 41,
   "id": "fb6de2ba-5686-4e48-a903-10e3b0dcdc79",
   "metadata": {},
   "outputs": [],
   "source": [
    "invoices_df['client_id'] = pd.to_numeric(invoices_df['client_id'])\n",
    "invoices_df['product_id'] = pd.to_numeric(invoices_df['product_id'])\n",
    "invoices_df['quantity'] = pd.to_numeric(invoices_df['quantity'])\n",
    "invoices_df['unit_price'] = pd.to_numeric(invoices_df['unit_price'])\n"
   ]
  },
  {
   "cell_type": "code",
   "execution_count": 42,
   "id": "86b99ffa-f31e-498b-8398-419ce193fd6a",
   "metadata": {},
   "outputs": [],
   "source": [
    "merged_df = invoices_df.merge(clients_df, on='client_id', how='left')\n",
    "final_df = merged_df.merge(products_df, on='product_id', how='left')"
   ]
  },
  {
   "cell_type": "code",
   "execution_count": 43,
   "id": "82363b80-9900-4d9b-9dc0-809b04ca6e74",
   "metadata": {},
   "outputs": [
    {
     "name": "stdout",
     "output_type": "stream",
     "text": [
      "Liczba przetworzonych faktur: 10\n"
     ]
    }
   ],
   "source": [
    "print(\"Liczba przetworzonych faktur:\", len(invoices_data))"
   ]
  },
  {
   "cell_type": "code",
   "execution_count": 44,
   "id": "2a2d0c2a-b88b-41b0-8263-a4a30dfcc052",
   "metadata": {},
   "outputs": [
    {
     "name": "stdout",
     "output_type": "stream",
     "text": [
      "['invoice_id', 'client_id', 'product_id', 'quantity', 'unit_price', 'name_x', 'email', 'phone', 'name_y', 'price']\n"
     ]
    }
   ],
   "source": [
    "print(final_df.columns.tolist())"
   ]
  },
  {
   "cell_type": "code",
   "execution_count": 45,
   "id": "09e24755-b82c-4350-9843-b93b38fbc920",
   "metadata": {},
   "outputs": [],
   "source": [
    "final_df.to_csv('wynik.csv', index=False)"
   ]
  },
  {
   "cell_type": "code",
   "execution_count": 46,
   "id": "31cf0a75-6b87-4c26-9ac2-9ed6fa79f850",
   "metadata": {},
   "outputs": [
    {
     "name": "stdout",
     "output_type": "stream",
     "text": [
      "  invoice_id  client_id  product_id  quantity  unit_price             name_x  \\\n",
      "0          2          3           7       NaN        48.0         Eric Moore   \n",
      "1         11         92           5       NaN        40.0    Valerie Stevens   \n",
      "2          3         60          16       NaN        46.0     Troy Alexander   \n",
      "3          4         78          14       NaN        11.0  William Velazquez   \n",
      "4          5         33          10       NaN        47.0     Steven Jackson   \n",
      "\n",
      "                  email                phone       name_y  price  \n",
      "0   lejacob@example.org         923-681-4646       router     48  \n",
      "1     xlowe@example.com   757-943-1579x98346    słuchawki     40  \n",
      "2   nturner@example.net  +1-212-349-3992x430  ochraniacze     46  \n",
      "3    lisa25@example.net    (765)602-1572x949        rolki     11  \n",
      "4  jeremy07@example.com         481.258.2434     pendrive     47  \n"
     ]
    }
   ],
   "source": [
    "print(final_df.head())"
   ]
  },
  {
   "cell_type": "code",
   "execution_count": 47,
   "id": "58afc6df-8bd9-444c-a280-8f7fbccca09b",
   "metadata": {},
   "outputs": [],
   "source": [
    "# Szukamy patternu: | [tekst] | [liczba] | [cena] |\n",
    "match_qty = re.search(r'\\|\\s*[^\\|]+\\s*\\|\\s*(\\d+)\\s*\\|\\s*[^\\|]+\\s*\\|', text)"
   ]
  },
  {
   "cell_type": "code",
   "execution_count": 48,
   "id": "7aa5cf36-eea4-4820-80cc-03f00d02ff67",
   "metadata": {},
   "outputs": [],
   "source": [
    "# W pętli for zamień regex dla quantity na:\n",
    "match_qty = re.search(r'\\|\\s*[^\\|]+\\s*\\|\\s*(\\d+)\\s*\\|\\s*[^\\|]+\\s*\\|', text)\n",
    "extracted['quantity'] = match_qty.group(1) if match_qty else None\n"
   ]
  },
  {
   "cell_type": "code",
   "execution_count": 49,
   "id": "bbe17642-9c92-4dc2-bc1f-21cdfdb28049",
   "metadata": {},
   "outputs": [
    {
     "name": "stdout",
     "output_type": "stream",
     "text": [
      "Done! 🎉\n"
     ]
    }
   ],
   "source": [
    "import sqlite3\n",
    "import pandas as pd\n",
    "import pytesseract\n",
    "from PIL import Image\n",
    "import glob\n",
    "import re\n",
    "\n",
    "# Wczytaj klientów i produkty\n",
    "conn = sqlite3.connect('zad_domowe__clients.db')\n",
    "clients_df = pd.read_sql_query(\"SELECT * FROM clients\", conn)\n",
    "conn.close()\n",
    "clients_df = clients_df.rename(columns={'id': 'client_id'})\n",
    "\n",
    "products_df = pd.read_csv('zad_domowe__products.csv', sep=';')\n",
    "products_df = products_df.rename(columns={'id': 'product_id'})\n",
    "\n",
    "# Przetwarzanie faktur\n",
    "invoices_data = []\n",
    "for img_path in sorted(glob.glob('zad_domowe__invoice_*.png')):\n",
    "    text = pytesseract.image_to_string(Image.open(img_path))\n",
    "    \n",
    "    extracted = {}\n",
    "    # Invoice ID\n",
    "    match_inv = re.search(r'Faktura\\s*#:\\s*(\\d+)', text)\n",
    "    extracted['invoice_id'] = match_inv.group(1) if match_inv else None\n",
    "    \n",
    "    # Client ID\n",
    "    match_client = re.search(r'id klienta\\s*(\\d+)', text)\n",
    "    extracted['client_id'] = match_client.group(1) if match_client else None\n",
    "    \n",
    "    # Product ID\n",
    "    match_prod = re.search(r'id produktu\\s*(\\d+)', text)\n",
    "    extracted['product_id'] = match_prod.group(1) if match_prod else None\n",
    "    \n",
    "    # Quantity (POPRAWIONE)\n",
    "    match_qty = re.search(r'\\|\\s*[^\\|]+\\s*\\|\\s*(\\d+)\\s*\\|\\s*[^\\|]+\\s*\\|', text)\n",
    "    extracted['quantity'] = match_qty.group(1) if match_qty else None\n",
    "    \n",
    "    # Unit Price\n",
    "    match_price = re.search(r'\\$\\s*(\\d+\\.\\d+)', text)\n",
    "    extracted['unit_price'] = match_price.group(1) if match_price else None\n",
    "    \n",
    "    invoices_data.append(extracted)\n",
    "\n",
    "invoices_df = pd.DataFrame(invoices_data)\n",
    "\n",
    "# Konwersja typów\n",
    "invoices_df['client_id'] = pd.to_numeric(invoices_df['client_id'])\n",
    "invoices_df['product_id'] = pd.to_numeric(invoices_df['product_id'])\n",
    "invoices_df['quantity'] = pd.to_numeric(invoices_df['quantity'])\n",
    "invoices_df['unit_price'] = pd.to_numeric(invoices_df['unit_price'])\n",
    "\n",
    "# Połącz dane\n",
    "merged_df = invoices_df.merge(clients_df, on='client_id', how='left')\n",
    "final_df = merged_df.merge(products_df, on='product_id', how='left')\n",
    "\n",
    "# Zapisz wynik\n",
    "final_df.to_csv('wynik.csv', index=False)\n",
    "\n",
    "print(\"Done! 🎉\")"
   ]
  },
  {
   "cell_type": "code",
   "execution_count": 50,
   "id": "94c0cdf7-cc46-4d0c-bcfb-3d5393d2c23d",
   "metadata": {},
   "outputs": [
    {
     "name": "stdout",
     "output_type": "stream",
     "text": [
      "  invoice_id  client_id  product_id  quantity  unit_price             name_x  \\\n",
      "0          2          3           7       NaN        48.0         Eric Moore   \n",
      "1         11         92           5       NaN        40.0    Valerie Stevens   \n",
      "2          3         60          16       NaN        46.0     Troy Alexander   \n",
      "3          4         78          14       NaN        11.0  William Velazquez   \n",
      "4          5         33          10       NaN        47.0     Steven Jackson   \n",
      "\n",
      "                  email                phone       name_y  price  \n",
      "0   lejacob@example.org         923-681-4646       router     48  \n",
      "1     xlowe@example.com   757-943-1579x98346    słuchawki     40  \n",
      "2   nturner@example.net  +1-212-349-3992x430  ochraniacze     46  \n",
      "3    lisa25@example.net    (765)602-1572x949        rolki     11  \n",
      "4  jeremy07@example.com         481.258.2434     pendrive     47  \n"
     ]
    }
   ],
   "source": [
    "print(final_df.head())"
   ]
  },
  {
   "cell_type": "code",
   "execution_count": 51,
   "id": "fa316811-5c4d-4ff6-8c0f-8ef833980af8",
   "metadata": {},
   "outputs": [
    {
     "name": "stdout",
     "output_type": "stream",
     "text": [
      "TEKST FAKTURY 2:\n",
      "'FAKTURA\\n\\nFirma: Firma XYZ\\nKlient: Troy Alexander (id klienta 60)\\nFaktura #: 3\\n\\nData: 2024-05-19\\n\\nOpis llosé\\nochraniacze (id produktu 16) 4\\nSuma:\\n\\nCena\\n$46.00\\n\\n$184.00\\n'\n"
     ]
    }
   ],
   "source": [
    "# Wklej to w nowej komórce i uruchom\n",
    "test_text = pytesseract.image_to_string(Image.open('zad_domowe__invoice_2.png'))\n",
    "print(\"TEKST FAKTURY 2:\")\n",
    "print(repr(test_text))  # repr pokaże białe znaki"
   ]
  },
  {
   "cell_type": "code",
   "execution_count": 52,
   "id": "86d5e42d-5493-432a-9554-9001d8bd31a0",
   "metadata": {},
   "outputs": [],
   "source": [
    "# Szukamy: [nazwa produktu] [ilość]\n",
    "match_qty = re.search(r'\\(id produktu \\d+\\)\\s*(\\d+)', text)"
   ]
  },
  {
   "cell_type": "code",
   "execution_count": 53,
   "id": "b8e03bea-b83f-441b-9007-3a9a4d87e4a5",
   "metadata": {},
   "outputs": [],
   "source": [
    "# W pętli for zamień na:\n",
    "match_qty = re.search(r'\\(id produktu \\d+\\)\\s*(\\d+)', text)\n",
    "extracted['quantity'] = match_qty.group(1) if match_qty else None"
   ]
  },
  {
   "cell_type": "code",
   "execution_count": 54,
   "id": "c3a5793d-3f9e-491f-8513-dcb0208d0320",
   "metadata": {},
   "outputs": [
    {
     "name": "stdout",
     "output_type": "stream",
     "text": [
      "Znaleziono quantity: 4\n"
     ]
    }
   ],
   "source": [
    "test_text = 'ochraniacze (id produktu 16) 4'  # Przykładowy tekst\n",
    "match_qty = re.search(r'\\(id produktu \\d+\\)\\s*(\\d+)', test_text)\n",
    "print(\"Znaleziono quantity:\", match_qty.group(1))  # Powinno zwrócić 4"
   ]
  },
  {
   "cell_type": "code",
   "execution_count": 55,
   "id": "4077e65d-385a-4061-9abe-83f1cdcaa018",
   "metadata": {},
   "outputs": [],
   "source": [
    "invoices_data = []\n",
    "for img_path in sorted(glob.glob('zad_domowe__invoice_*.png')):\n",
    "    text = pytesseract.image_to_string(Image.open(img_path))\n",
    "    \n",
    "    extracted = {}\n",
    "    # Invoice ID\n",
    "    match_inv = re.search(r'Faktura\\s*#:\\s*(\\d+)', text)\n",
    "    extracted['invoice_id'] = match_inv.group(1) if match_inv else None\n",
    "    \n",
    "    # Client ID\n",
    "    match_client = re.search(r'id klienta\\s*(\\d+)', text)\n",
    "    extracted['client_id'] = match_client.group(1) if match_client else None\n",
    "    \n",
    "    # Product ID\n",
    "    match_prod = re.search(r'id produktu\\s*(\\d+)', text)\n",
    "    extracted['product_id'] = match_prod.group(1) if match_prod else None\n",
    "    \n",
    "    # QUANTITY - POPRAWIONE (szukamy liczby po \"(id produktu X)\")\n",
    "    match_qty = re.search(r'\\(id produktu \\d+\\)\\s*(\\d+)', text)\n",
    "    extracted['quantity'] = match_qty.group(1) if match_qty else None\n",
    "    \n",
    "    # Unit Price\n",
    "    match_price = re.search(r'\\$\\s*(\\d+\\.\\d+)', text)\n",
    "    extracted['unit_price'] = match_price.group(1) if match_price else None\n",
    "    \n",
    "    invoices_data.append(extracted)\n",
    "\n",
    "invoices_df = pd.DataFrame(invoices_data)\n",
    "\n",
    "# Konwersja typów\n",
    "invoices_df['client_id'] = pd.to_numeric(invoices_df['client_id'])\n",
    "invoices_df['product_id'] = pd.to_numeric(invoices_df['product_id'])\n",
    "invoices_df['quantity'] = pd.to_numeric(invoices_df['quantity'])\n",
    "invoices_df['unit_price'] = pd.to_numeric(invoices_df['unit_price'])"
   ]
  },
  {
   "cell_type": "code",
   "execution_count": 56,
   "id": "42709a7b-7533-4837-9fd1-47bd1358d047",
   "metadata": {},
   "outputs": [],
   "source": [
    "merged_df = invoices_df.merge(clients_df, on='client_id', how='left')\n",
    "final_df = merged_df.merge(products_df, on='product_id', how='left')\n",
    "final_df.to_csv('wynik.csv', index=False)"
   ]
  },
  {
   "cell_type": "code",
   "execution_count": 57,
   "id": "737a126a-4f7b-42d8-abbb-ef9f9fe1daac",
   "metadata": {},
   "outputs": [
    {
     "name": "stdout",
     "output_type": "stream",
     "text": [
      "  invoice_id  client_id  product_id  quantity  unit_price             name_x  \\\n",
      "0          2          3           7         3        48.0         Eric Moore   \n",
      "1         11         92           5         1        40.0    Valerie Stevens   \n",
      "2          3         60          16         4        46.0     Troy Alexander   \n",
      "3          4         78          14         3        11.0  William Velazquez   \n",
      "4          5         33          10         4        47.0     Steven Jackson   \n",
      "\n",
      "                  email                phone       name_y  price  \n",
      "0   lejacob@example.org         923-681-4646       router     48  \n",
      "1     xlowe@example.com   757-943-1579x98346    słuchawki     40  \n",
      "2   nturner@example.net  +1-212-349-3992x430  ochraniacze     46  \n",
      "3    lisa25@example.net    (765)602-1572x949        rolki     11  \n",
      "4  jeremy07@example.com         481.258.2434     pendrive     47  \n"
     ]
    }
   ],
   "source": [
    "print(final_df.head())"
   ]
  },
  {
   "cell_type": "code",
   "execution_count": 58,
   "id": "2370ab04-e3fa-48a5-be44-9f488d77164f",
   "metadata": {},
   "outputs": [],
   "source": [
    "final_df.to_csv('wynik.csv', index=False)"
   ]
  },
  {
   "cell_type": "code",
   "execution_count": 59,
   "id": "395c398d-5d92-4089-b4dc-8a05ce956247",
   "metadata": {},
   "outputs": [
    {
     "name": "stdout",
     "output_type": "stream",
     "text": [
      "invoice_id,client_id,product_id,quantity,unit_price,name_x,email,phone,name_y,price\n",
      "2,3,7,3,48.0,Eric Moore,lejacob@example.org,923-681-4646,router,48\n",
      "11,92,5,1,40.0,Valerie Stevens,xlowe@example.com,757-943-1579x98346,słuchawki,40\n",
      "3,60,16,4,46.0,Troy Alexander,nturner@example.net,+1-212-349-3992x430,ochraniacze,46\n",
      "4,78,14,3,11.0,William Velazquez,lisa25@example.net,(765)602-1572x949,rolki,11\n",
      "5,33,10,4,47.0,Steven Jackson,jeremy07@example.com,481.258.2434,pendrive,47\n",
      "6,8,5,4,40.0,Ronald Callahan,audrey56@example.com,+1-727-668-2720x085,słuchawki,40\n",
      "7,4,1,2,85.0,Laura Beard,westdominique@example.org,(291)558-0966,telewizor,85\n",
      "8,63,9,1,65.0,Alexis Johnson,campbellkatrina@example.org,(311)679-3346,klawiatura,65\n",
      "9,100,20,2,14.0,Johnny Franklin,bankslisa@example.org,(626)681-2730x71696,spodnie,14\n"
     ]
    }
   ],
   "source": [
    "!head wynik.csv"
   ]
  },
  {
   "cell_type": "code",
   "execution_count": 60,
   "id": "c731a9a0-ebae-4275-a42d-1be3cc6de9b9",
   "metadata": {},
   "outputs": [],
   "source": [
    "final_df = final_df.rename(columns={\n",
    "    'name_x': 'client_name',\n",
    "    'name_y': 'product_name'\n",
    "})"
   ]
  },
  {
   "cell_type": "code",
   "execution_count": 61,
   "id": "f74f97ee-c925-4576-a702-0036a286c303",
   "metadata": {},
   "outputs": [],
   "source": [
    "final_df.to_csv('wynik_opisowe_kolumny.csv', index=False)"
   ]
  },
  {
   "cell_type": "code",
   "execution_count": 62,
   "id": "75e20bc9-f206-4bab-9d26-27fd6a19cbf6",
   "metadata": {},
   "outputs": [
    {
     "name": "stdout",
     "output_type": "stream",
     "text": [
      "['invoice_id', 'client_id', 'product_id', 'quantity', 'unit_price', 'client_name', 'email', 'phone', 'product_name', 'price']\n"
     ]
    }
   ],
   "source": [
    "print(final_df.columns.tolist())"
   ]
  },
  {
   "cell_type": "code",
   "execution_count": 63,
   "id": "0e8e4917-68f9-4538-a35c-1773c97b1bf6",
   "metadata": {},
   "outputs": [
    {
     "ename": "ModuleNotFoundError",
     "evalue": "No module named 'streamlit'",
     "output_type": "error",
     "traceback": [
      "\u001b[31m---------------------------------------------------------------------------\u001b[39m",
      "\u001b[31mModuleNotFoundError\u001b[39m                       Traceback (most recent call last)",
      "\u001b[36mCell\u001b[39m\u001b[36m \u001b[39m\u001b[32mIn[63]\u001b[39m\u001b[32m, line 1\u001b[39m\n\u001b[32m----> \u001b[39m\u001b[32m1\u001b[39m \u001b[38;5;28;01mimport\u001b[39;00m\u001b[38;5;250m \u001b[39m\u001b[34;01mstreamlit\u001b[39;00m\u001b[38;5;250m \u001b[39m\u001b[38;5;28;01mas\u001b[39;00m\u001b[38;5;250m \u001b[39m\u001b[34;01mst\u001b[39;00m\n\u001b[32m      2\u001b[39m \u001b[38;5;28;01mimport\u001b[39;00m\u001b[38;5;250m \u001b[39m\u001b[34;01mpandas\u001b[39;00m\u001b[38;5;250m \u001b[39m\u001b[38;5;28;01mas\u001b[39;00m\u001b[38;5;250m \u001b[39m\u001b[34;01mpd\u001b[39;00m\n\u001b[32m      3\u001b[39m \u001b[38;5;28;01mimport\u001b[39;00m\u001b[38;5;250m \u001b[39m\u001b[34;01mmatplotlib\u001b[39;00m\u001b[34;01m.\u001b[39;00m\u001b[34;01mpyplot\u001b[39;00m\u001b[38;5;250m \u001b[39m\u001b[38;5;28;01mas\u001b[39;00m\u001b[38;5;250m \u001b[39m\u001b[34;01mplt\u001b[39;00m\n",
      "\u001b[31mModuleNotFoundError\u001b[39m: No module named 'streamlit'"
     ]
    }
   ],
   "source": [
    "import streamlit as st\n",
    "import pandas as pd\n",
    "import matplotlib.pyplot as plt\n",
    "\n",
    "# Konfiguracja strony\n",
    "st.set_page_config(page_title=\"Ankieta Welcome\", layout=\"wide\")\n",
    "st.title(\"🎯 Eksploracja danych z ankiety powitalnej\")\n",
    "\n",
    "# Wczytanie danych\n",
    "@st.cache_data\n",
    "def load_data():\n",
    "    return pd.read_csv(\"35__welcome_survey_cleaned.csv\")\n",
    "\n",
    "df = load_data()\n",
    "\n",
    "# Sidebar z filtrami\n",
    "st.sidebar.header(\"Filtry\")\n",
    "\n",
    "# Filtry\n",
    "gender_filter = st.sidebar.multiselect(\n",
    "    \"Płeć:\",\n",
    "    options=df['gender'].unique(),\n",
    "    default=df['gender'].unique()\n",
    ")\n",
    "\n",
    "age_filter = st.sidebar.multiselect(\n",
    "    \"Przedział wiekowy:\",\n",
    "    options=df['age'].unique(),\n",
    "    default=df['age'].unique()\n",
    ")\n",
    "\n",
    "industry_filter = st.sidebar.multiselect(\n",
    "    \"Branża:\",\n",
    "    options=df['industry'].unique(),\n",
    "    default=df['industry'].unique()\n",
    ")\n",
    "\n",
    "# Filtrowanie danych\n",
    "filtered_df = df[\n",
    "    (df['gender'].isin(gender_filter)) &\n",
    "    (df['age'].isin(age_filter)) &\n",
    "    (df['industry'].isin(industry_filter))\n",
    "]\n",
    "\n",
    "# Podstawowe statystyki\n",
    "st.header(\"Podsumowanie\")\n",
    "col1, col2, col3 = st.columns(3)\n",
    "col1.metric(\"Liczba respondentów\", len(filtered_df))\n",
    "col2.metric(\"Liczba kobiet\", len(filtered_df[filtered_df['gender'] == 'female']))\n",
    "col3.metric(\"Liczba mężczyzn\", len(filtered_df[filtered_df['gender'] == 'male']))\n",
    "\n",
    "# Tabela z danymi\n",
    "st.header(\"Dane\")\n",
    "st.dataframe(filtered_df.head(10))\n",
    "\n",
    "# Wykresy\n",
    "st.header(\"Wizualizacje\")\n",
    "\n",
    "col1, col2 = st.columns(2)\n",
    "\n",
    "with col1:\n",
    "    # Rozkład płci\n",
    "    gender_counts = filtered_df['gender'].value_counts()\n",
    "    fig, ax = plt.subplots()\n",
    "    ax.pie(gender_counts, labels=gender_counts.index, autopct='%1.1f%%')\n",
    "    ax.set_title(\"Rozkład płci\")\n",
    "    st.pyplot(fig)\n",
    "\n",
    "with col2:\n",
    "    # Rozkład hobby\n",
    "    hobby_cols = [col for col in df.columns if 'hobby_' in col]\n",
    "    hobby_counts = filtered_df[hobby_cols].sum().sort_values(ascending=False)\n",
    "    fig, ax = plt.subplots()\n",
    "    ax.bar(hobby_counts.index, hobby_counts.values)\n",
    "    ax.set_title(\"Popularność hobby\")\n",
    "    ax.tick_params(axis='x', rotation=45)\n",
    "    st.pyplot(fig)\n",
    "\n",
    "# Podgląd surowych danych\n",
    "if st.checkbox(\"Pokaż surowe dane\"):\n",
    "    st.subheader(\"Surowe dane\")\n",
    "    st.write(filtered_df)"
   ]
  },
  {
   "cell_type": "code",
   "execution_count": 64,
   "id": "9feeff6d-5168-479a-a37f-fd57f455bcf9",
   "metadata": {},
   "outputs": [
    {
     "name": "stderr",
     "output_type": "stream",
     "text": [
      "2025-08-26 22:40:30.182 WARNING streamlit.runtime.scriptrunner_utils.script_run_context: Thread 'MainThread': missing ScriptRunContext! This warning can be ignored when running in bare mode.\n",
      "2025-08-26 22:40:30.184 WARNING streamlit.runtime.scriptrunner_utils.script_run_context: Thread 'MainThread': missing ScriptRunContext! This warning can be ignored when running in bare mode.\n",
      "2025-08-26 22:40:30.291 \n",
      "  \u001b[33m\u001b[1mWarning:\u001b[0m to view this Streamlit app on a browser, run it with the following\n",
      "  command:\n",
      "\n",
      "    streamlit run /home/brudna_hara/data_science_course/venv/lib/python3.13/site-packages/ipykernel_launcher.py [ARGUMENTS]\n",
      "2025-08-26 22:40:30.292 Thread 'MainThread': missing ScriptRunContext! This warning can be ignored when running in bare mode.\n",
      "2025-08-26 22:40:30.294 Thread 'MainThread': missing ScriptRunContext! This warning can be ignored when running in bare mode.\n",
      "2025-08-26 22:40:30.295 No runtime found, using MemoryCacheStorageManager\n",
      "2025-08-26 22:40:30.297 No runtime found, using MemoryCacheStorageManager\n",
      "2025-08-26 22:40:30.299 Thread 'MainThread': missing ScriptRunContext! This warning can be ignored when running in bare mode.\n",
      "2025-08-26 22:40:30.301 Thread 'MainThread': missing ScriptRunContext! This warning can be ignored when running in bare mode.\n",
      "2025-08-26 22:40:30.302 Thread 'MainThread': missing ScriptRunContext! This warning can be ignored when running in bare mode.\n",
      "2025-08-26 22:40:30.304 Thread 'MainThread': missing ScriptRunContext! This warning can be ignored when running in bare mode.\n",
      "2025-08-26 22:40:30.313 Thread 'MainThread': missing ScriptRunContext! This warning can be ignored when running in bare mode.\n",
      "2025-08-26 22:40:30.314 Thread 'MainThread': missing ScriptRunContext! This warning can be ignored when running in bare mode.\n",
      "2025-08-26 22:40:30.315 Thread 'MainThread': missing ScriptRunContext! This warning can be ignored when running in bare mode.\n",
      "2025-08-26 22:40:30.318 Thread 'MainThread': missing ScriptRunContext! This warning can be ignored when running in bare mode.\n",
      "2025-08-26 22:40:30.320 Thread 'MainThread': missing ScriptRunContext! This warning can be ignored when running in bare mode.\n",
      "2025-08-26 22:40:30.321 Thread 'MainThread': missing ScriptRunContext! This warning can be ignored when running in bare mode.\n"
     ]
    },
    {
     "ename": "KeyError",
     "evalue": "'gender'",
     "output_type": "error",
     "traceback": [
      "\u001b[31m---------------------------------------------------------------------------\u001b[39m",
      "\u001b[31mKeyError\u001b[39m                                  Traceback (most recent call last)",
      "\u001b[36mFile \u001b[39m\u001b[32m~/data_science_course/venv/lib/python3.13/site-packages/pandas/core/indexes/base.py:3812\u001b[39m, in \u001b[36mIndex.get_loc\u001b[39m\u001b[34m(self, key)\u001b[39m\n\u001b[32m   3811\u001b[39m \u001b[38;5;28;01mtry\u001b[39;00m:\n\u001b[32m-> \u001b[39m\u001b[32m3812\u001b[39m     \u001b[38;5;28;01mreturn\u001b[39;00m \u001b[38;5;28;43mself\u001b[39;49m\u001b[43m.\u001b[49m\u001b[43m_engine\u001b[49m\u001b[43m.\u001b[49m\u001b[43mget_loc\u001b[49m\u001b[43m(\u001b[49m\u001b[43mcasted_key\u001b[49m\u001b[43m)\u001b[49m\n\u001b[32m   3813\u001b[39m \u001b[38;5;28;01mexcept\u001b[39;00m \u001b[38;5;167;01mKeyError\u001b[39;00m \u001b[38;5;28;01mas\u001b[39;00m err:\n",
      "\u001b[36mFile \u001b[39m\u001b[32mpandas/_libs/index.pyx:167\u001b[39m, in \u001b[36mpandas._libs.index.IndexEngine.get_loc\u001b[39m\u001b[34m()\u001b[39m\n",
      "\u001b[36mFile \u001b[39m\u001b[32mpandas/_libs/index.pyx:196\u001b[39m, in \u001b[36mpandas._libs.index.IndexEngine.get_loc\u001b[39m\u001b[34m()\u001b[39m\n",
      "\u001b[36mFile \u001b[39m\u001b[32mpandas/_libs/hashtable_class_helper.pxi:7088\u001b[39m, in \u001b[36mpandas._libs.hashtable.PyObjectHashTable.get_item\u001b[39m\u001b[34m()\u001b[39m\n",
      "\u001b[36mFile \u001b[39m\u001b[32mpandas/_libs/hashtable_class_helper.pxi:7096\u001b[39m, in \u001b[36mpandas._libs.hashtable.PyObjectHashTable.get_item\u001b[39m\u001b[34m()\u001b[39m\n",
      "\u001b[31mKeyError\u001b[39m: 'gender'",
      "\nThe above exception was the direct cause of the following exception:\n",
      "\u001b[31mKeyError\u001b[39m                                  Traceback (most recent call last)",
      "\u001b[36mCell\u001b[39m\u001b[36m \u001b[39m\u001b[32mIn[64]\u001b[39m\u001b[32m, line 22\u001b[39m\n\u001b[32m     17\u001b[39m st.sidebar.header(\u001b[33m\"\u001b[39m\u001b[33mFiltry\u001b[39m\u001b[33m\"\u001b[39m)\n\u001b[32m     19\u001b[39m \u001b[38;5;66;03m# Filtry\u001b[39;00m\n\u001b[32m     20\u001b[39m gender_filter = st.sidebar.multiselect(\n\u001b[32m     21\u001b[39m     \u001b[33m\"\u001b[39m\u001b[33mPłeć:\u001b[39m\u001b[33m\"\u001b[39m,\n\u001b[32m---> \u001b[39m\u001b[32m22\u001b[39m     options=\u001b[43mdf\u001b[49m\u001b[43m[\u001b[49m\u001b[33;43m'\u001b[39;49m\u001b[33;43mgender\u001b[39;49m\u001b[33;43m'\u001b[39;49m\u001b[43m]\u001b[49m.unique(),\n\u001b[32m     23\u001b[39m     default=df[\u001b[33m'\u001b[39m\u001b[33mgender\u001b[39m\u001b[33m'\u001b[39m].unique()\n\u001b[32m     24\u001b[39m )\n\u001b[32m     26\u001b[39m age_filter = st.sidebar.multiselect(\n\u001b[32m     27\u001b[39m     \u001b[33m\"\u001b[39m\u001b[33mPrzedział wiekowy:\u001b[39m\u001b[33m\"\u001b[39m,\n\u001b[32m     28\u001b[39m     options=df[\u001b[33m'\u001b[39m\u001b[33mage\u001b[39m\u001b[33m'\u001b[39m].unique(),\n\u001b[32m     29\u001b[39m     default=df[\u001b[33m'\u001b[39m\u001b[33mage\u001b[39m\u001b[33m'\u001b[39m].unique()\n\u001b[32m     30\u001b[39m )\n\u001b[32m     32\u001b[39m industry_filter = st.sidebar.multiselect(\n\u001b[32m     33\u001b[39m     \u001b[33m\"\u001b[39m\u001b[33mBranża:\u001b[39m\u001b[33m\"\u001b[39m,\n\u001b[32m     34\u001b[39m     options=df[\u001b[33m'\u001b[39m\u001b[33mindustry\u001b[39m\u001b[33m'\u001b[39m].unique(),\n\u001b[32m     35\u001b[39m     default=df[\u001b[33m'\u001b[39m\u001b[33mindustry\u001b[39m\u001b[33m'\u001b[39m].unique()\n\u001b[32m     36\u001b[39m )\n",
      "\u001b[36mFile \u001b[39m\u001b[32m~/data_science_course/venv/lib/python3.13/site-packages/pandas/core/frame.py:4107\u001b[39m, in \u001b[36mDataFrame.__getitem__\u001b[39m\u001b[34m(self, key)\u001b[39m\n\u001b[32m   4105\u001b[39m \u001b[38;5;28;01mif\u001b[39;00m \u001b[38;5;28mself\u001b[39m.columns.nlevels > \u001b[32m1\u001b[39m:\n\u001b[32m   4106\u001b[39m     \u001b[38;5;28;01mreturn\u001b[39;00m \u001b[38;5;28mself\u001b[39m._getitem_multilevel(key)\n\u001b[32m-> \u001b[39m\u001b[32m4107\u001b[39m indexer = \u001b[38;5;28;43mself\u001b[39;49m\u001b[43m.\u001b[49m\u001b[43mcolumns\u001b[49m\u001b[43m.\u001b[49m\u001b[43mget_loc\u001b[49m\u001b[43m(\u001b[49m\u001b[43mkey\u001b[49m\u001b[43m)\u001b[49m\n\u001b[32m   4108\u001b[39m \u001b[38;5;28;01mif\u001b[39;00m is_integer(indexer):\n\u001b[32m   4109\u001b[39m     indexer = [indexer]\n",
      "\u001b[36mFile \u001b[39m\u001b[32m~/data_science_course/venv/lib/python3.13/site-packages/pandas/core/indexes/base.py:3819\u001b[39m, in \u001b[36mIndex.get_loc\u001b[39m\u001b[34m(self, key)\u001b[39m\n\u001b[32m   3814\u001b[39m     \u001b[38;5;28;01mif\u001b[39;00m \u001b[38;5;28misinstance\u001b[39m(casted_key, \u001b[38;5;28mslice\u001b[39m) \u001b[38;5;129;01mor\u001b[39;00m (\n\u001b[32m   3815\u001b[39m         \u001b[38;5;28misinstance\u001b[39m(casted_key, abc.Iterable)\n\u001b[32m   3816\u001b[39m         \u001b[38;5;129;01mand\u001b[39;00m \u001b[38;5;28many\u001b[39m(\u001b[38;5;28misinstance\u001b[39m(x, \u001b[38;5;28mslice\u001b[39m) \u001b[38;5;28;01mfor\u001b[39;00m x \u001b[38;5;129;01min\u001b[39;00m casted_key)\n\u001b[32m   3817\u001b[39m     ):\n\u001b[32m   3818\u001b[39m         \u001b[38;5;28;01mraise\u001b[39;00m InvalidIndexError(key)\n\u001b[32m-> \u001b[39m\u001b[32m3819\u001b[39m     \u001b[38;5;28;01mraise\u001b[39;00m \u001b[38;5;167;01mKeyError\u001b[39;00m(key) \u001b[38;5;28;01mfrom\u001b[39;00m\u001b[38;5;250m \u001b[39m\u001b[34;01merr\u001b[39;00m\n\u001b[32m   3820\u001b[39m \u001b[38;5;28;01mexcept\u001b[39;00m \u001b[38;5;167;01mTypeError\u001b[39;00m:\n\u001b[32m   3821\u001b[39m     \u001b[38;5;66;03m# If we have a listlike key, _check_indexing_error will raise\u001b[39;00m\n\u001b[32m   3822\u001b[39m     \u001b[38;5;66;03m#  InvalidIndexError. Otherwise we fall through and re-raise\u001b[39;00m\n\u001b[32m   3823\u001b[39m     \u001b[38;5;66;03m#  the TypeError.\u001b[39;00m\n\u001b[32m   3824\u001b[39m     \u001b[38;5;28mself\u001b[39m._check_indexing_error(key)\n",
      "\u001b[31mKeyError\u001b[39m: 'gender'"
     ]
    }
   ],
   "source": [
    "import streamlit as st\n",
    "import pandas as pd\n",
    "import matplotlib.pyplot as plt\n",
    "\n",
    "# Konfiguracja strony\n",
    "st.set_page_config(page_title=\"Ankieta Welcome\", layout=\"wide\")\n",
    "st.title(\"🎯 Eksploracja danych z ankiety powitalnej\")\n",
    "\n",
    "# Wczytanie danych\n",
    "@st.cache_data\n",
    "def load_data():\n",
    "    return pd.read_csv(\"35__welcome_survey_cleaned.csv\")\n",
    "\n",
    "df = load_data()\n",
    "\n",
    "# Sidebar z filtrami\n",
    "st.sidebar.header(\"Filtry\")\n",
    "\n",
    "# Filtry\n",
    "gender_filter = st.sidebar.multiselect(\n",
    "    \"Płeć:\",\n",
    "    options=df['gender'].unique(),\n",
    "    default=df['gender'].unique()\n",
    ")\n",
    "\n",
    "age_filter = st.sidebar.multiselect(\n",
    "    \"Przedział wiekowy:\",\n",
    "    options=df['age'].unique(),\n",
    "    default=df['age'].unique()\n",
    ")\n",
    "\n",
    "industry_filter = st.sidebar.multiselect(\n",
    "    \"Branża:\",\n",
    "    options=df['industry'].unique(),\n",
    "    default=df['industry'].unique()\n",
    ")\n",
    "\n",
    "# Filtrowanie danych\n",
    "filtered_df = df[\n",
    "    (df['gender'].isin(gender_filter)) &\n",
    "    (df['age'].isin(age_filter)) &\n",
    "    (df['industry'].isin(industry_filter))\n",
    "]\n",
    "\n",
    "# Podstawowe statystyki\n",
    "st.header(\"Podsumowanie\")\n",
    "col1, col2, col3 = st.columns(3)\n",
    "col1.metric(\"Liczba respondentów\", len(filtered_df))\n",
    "col2.metric(\"Liczba kobiet\", len(filtered_df[filtered_df['gender'] == 'female']))\n",
    "col3.metric(\"Liczba mężczyzn\", len(filtered_df[filtered_df['gender'] == 'male']))\n",
    "\n",
    "# Tabela z danymi\n",
    "st.header(\"Dane\")\n",
    "st.dataframe(filtered_df.head(10))\n",
    "\n",
    "# Wykresy\n",
    "st.header(\"Wizualizacje\")\n",
    "\n",
    "col1, col2 = st.columns(2)\n",
    "\n",
    "with col1:\n",
    "    # Rozkład płci\n",
    "    gender_counts = filtered_df['gender'].value_counts()\n",
    "    fig, ax = plt.subplots()\n",
    "    ax.pie(gender_counts, labels=gender_counts.index, autopct='%1.1f%%')\n",
    "    ax.set_title(\"Rozkład płci\")\n",
    "    st.pyplot(fig)\n",
    "\n",
    "with col2:\n",
    "    # Rozkład hobby\n",
    "    hobby_cols = [col for col in df.columns if 'hobby_' in col]\n",
    "    hobby_counts = filtered_df[hobby_cols].sum().sort_values(ascending=False)\n",
    "    fig, ax = plt.subplots()\n",
    "    ax.bar(hobby_counts.index, hobby_counts.values)\n",
    "    ax.set_title(\"Popularność hobby\")\n",
    "    ax.tick_params(axis='x', rotation=45)\n",
    "    st.pyplot(fig)\n",
    "\n",
    "# Podgląd surowych danych\n",
    "if st.checkbox(\"Pokaż surowe dane\"):\n",
    "    st.subheader(\"Surowe dane\")\n",
    "    st.write(filtered_df)"
   ]
  },
  {
   "cell_type": "code",
   "execution_count": 65,
   "id": "e1c56c05-2b07-4005-9a4f-306126a7d2f8",
   "metadata": {},
   "outputs": [
    {
     "name": "stdout",
     "output_type": "stream",
     "text": [
      "Kolumny w pliku CSV:\n",
      "['age;edu_level;fav_animals;fav_place;gender;hobby_art;hobby_books;hobby_movies;hobby_other;hobby_sport;hobby_video_games;industry;learning_pref_books;learning_pref_chatgpt;learning_pref_offline_courses;learning_pref_online_courses;learning_pref_personal_projects;learning_pref_teaching;learning_pref_teamwork;learning_pref_workshops;motivation_career;motivation_challenges;motivation_creativity_and_innovation;motivation_money_and_job;motivation_personal_growth;motivation_remote;sweet_or_salty;years_of_experience']\n"
     ]
    }
   ],
   "source": [
    "# W nowej komórce Jupytera:\n",
    "df = pd.read_csv(\"35__welcome_survey_cleaned.csv\")\n",
    "print(\"Kolumny w pliku CSV:\")\n",
    "print(df.columns.tolist())"
   ]
  },
  {
   "cell_type": "code",
   "execution_count": 66,
   "id": "e2570b98-3272-41d5-9c73-1cbfef6c0fc2",
   "metadata": {},
   "outputs": [],
   "source": [
    "df = pd.read_csv(\"35__welcome_survey_cleaned.csv\", sep=';')"
   ]
  },
  {
   "cell_type": "code",
   "execution_count": 67,
   "id": "0ddc0863-4104-4e8b-ab59-9da704b3badb",
   "metadata": {},
   "outputs": [
    {
     "name": "stdout",
     "output_type": "stream",
     "text": [
      "['age', 'edu_level', 'fav_animals', 'fav_place', 'gender', 'hobby_art', 'hobby_books', 'hobby_movies', 'hobby_other', 'hobby_sport', 'hobby_video_games', 'industry', 'learning_pref_books', 'learning_pref_chatgpt', 'learning_pref_offline_courses', 'learning_pref_online_courses', 'learning_pref_personal_projects', 'learning_pref_teaching', 'learning_pref_teamwork', 'learning_pref_workshops', 'motivation_career', 'motivation_challenges', 'motivation_creativity_and_innovation', 'motivation_money_and_job', 'motivation_personal_growth', 'motivation_remote', 'sweet_or_salty', 'years_of_experience']\n"
     ]
    }
   ],
   "source": [
    "print(df.columns.tolist())"
   ]
  },
  {
   "cell_type": "code",
   "execution_count": 68,
   "id": "1e324818-edfe-481e-95d1-513fe3ab3a0e",
   "metadata": {
    "scrolled": true
   },
   "outputs": [
    {
     "name": "stderr",
     "output_type": "stream",
     "text": [
      "2025-08-26 22:42:34.064 No runtime found, using MemoryCacheStorageManager\n"
     ]
    }
   ],
   "source": [
    "@st.cache_data\n",
    "def load_data():\n",
    "    return pd.read_csv(\"35__welcome_survey_cleaned.csv\", sep=';')"
   ]
  },
  {
   "cell_type": "code",
   "execution_count": null,
   "id": "2d492228-1168-4195-9ee1-c6d329f1bd61",
   "metadata": {},
   "outputs": [],
   "source": []
  }
 ],
 "metadata": {
  "kernelspec": {
   "display_name": "Python 3 (ipykernel)",
   "language": "python",
   "name": "python3"
  },
  "language_info": {
   "codemirror_mode": {
    "name": "ipython",
    "version": 3
   },
   "file_extension": ".py",
   "mimetype": "text/x-python",
   "name": "python",
   "nbconvert_exporter": "python",
   "pygments_lexer": "ipython3",
   "version": "3.13.5"
  }
 },
 "nbformat": 4,
 "nbformat_minor": 5
}
